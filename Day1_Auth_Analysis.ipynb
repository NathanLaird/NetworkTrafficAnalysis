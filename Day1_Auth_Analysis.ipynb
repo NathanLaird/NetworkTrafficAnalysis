{
 "cells": [
  {
   "cell_type": "code",
   "execution_count": 1,
   "metadata": {},
   "outputs": [],
   "source": [
    "import pyspark as ps\n",
    "import pandas as pd\n",
    "import matplotlib.pyplot as plt\n",
    "from pyspark.sql.functions import udf\n",
    "from pyspark.sql.types import StringType\n",
    "\n",
    "\n",
    "spark = (ps.sql.SparkSession.builder \n",
    "        .master(\"local[4]\") \n",
    "        .appName(\"nathanscope\") \n",
    "        .getOrCreate()\n",
    "        )"
   ]
  },
  {
   "cell_type": "code",
   "execution_count": 2,
   "metadata": {},
   "outputs": [],
   "source": [
    "sc = spark.sparkContext"
   ]
  },
  {
   "cell_type": "code",
   "execution_count": 3,
   "metadata": {},
   "outputs": [],
   "source": [
    "# import the many data types\n",
    "from pyspark.sql.types import *\n",
    "\n",
    "# create a schema of your own\n",
    "auth_schema = StructType( [\n",
    "    StructField('time',     LongType(), True),\n",
    "    StructField('src_user_domain',   StringType(),  True),\n",
    "    StructField('dst_user_domain',   StringType(),  True),\n",
    "    StructField('src_comp',   StringType(),  True),\n",
    "    StructField('dst_comp',   StringType(),  True),\n",
    "    StructField('auth_type',  StringType(), True),\n",
    "    StructField('logon_type',  StringType(),  True),\n",
    "    StructField('auth_orientation',  StringType(),  True),\n",
    "    StructField('Success',  StringType(),  True)] )\n",
    "\n",
    "proc_schema = StructType( [\n",
    "    StructField('time',     LongType(), True),\n",
    "    StructField('user_domain',   StringType(),  True),\n",
    "    StructField('comp',   StringType(),  True),\n",
    "    StructField('proc_name',   StringType(),  True),\n",
    "    StructField('start',   StringType(),  True),\n",
    "    ] )\n",
    "\n",
    "flow_schema = StructType( [\n",
    "    StructField('time',     LongType(), True),\n",
    "    StructField('duration',     LongType(), True),\n",
    "    StructField('src_comp',   StringType(),  True),\n",
    "    StructField('src_port',   StringType(),  True),\n",
    "    StructField('dst_comp',   StringType(),  True),\n",
    "    StructField('dst_port',   StringType(),  True),\n",
    "    StructField('protocol',  StringType(), True),\n",
    "    StructField('pk_count',  LongType(),  True),\n",
    "    StructField('byte_count',  LongType(),  True)] )\n",
    "\n",
    "DNS_schema = StructType( [\n",
    "    StructField('time',     LongType(), True),\n",
    "    StructField('src_comp',   StringType(),  True),\n",
    "    StructField('comp_resolved',   StringType(),  True),\n",
    "    \n",
    "    ] )\n"
   ]
  },
  {
   "cell_type": "code",
   "execution_count": 4,
   "metadata": {},
   "outputs": [],
   "source": [
    "rdd_auth = (sc.pickleFile(\"Data/Day1/auth/part*\")\n",
    "            \n",
    "           )\n",
    "\n",
    "rdd_proc = (sc.pickleFile(\"Data/Day1/proc/part*\")\n",
    "            \n",
    "           )\n",
    "\n",
    "rdd_flow = (sc.pickleFile('Data/Day1/flow/part*')\n",
    "           )\n",
    "\n",
    "rdd_DNS = (sc.pickleFile(\"Data/Day1/DNS/part*\")\n",
    "           \n",
    "           )"
   ]
  },
  {
   "cell_type": "code",
   "execution_count": 5,
   "metadata": {},
   "outputs": [],
   "source": [
    "auth_df = spark.createDataFrame(rdd_auth,auth_schema)\n",
    "\n",
    "proc_df = spark.createDataFrame(rdd_proc,proc_schema)\n",
    "\n",
    "flow_df = spark.createDataFrame(rdd_flow,flow_schema)\n",
    "\n",
    "DNS_df = spark.createDataFrame(rdd_DNS,DNS_schema)"
   ]
  },
  {
   "cell_type": "code",
   "execution_count": null,
   "metadata": {},
   "outputs": [],
   "source": []
  },
  {
   "cell_type": "code",
   "execution_count": 6,
   "metadata": {},
   "outputs": [],
   "source": [
    "add_success_value = udf(lambda x : 1 if x == 'Success' else 0 )"
   ]
  },
  {
   "cell_type": "code",
   "execution_count": 7,
   "metadata": {},
   "outputs": [],
   "source": [
    "auth_df = auth_df.withColumn('Success_Value', add_success_value(auth_df['Success']))"
   ]
  },
  {
   "cell_type": "code",
   "execution_count": 8,
   "metadata": {},
   "outputs": [],
   "source": [
    "## View Logon Types\n",
    "logon_df = auth_df.groupBy('logon_type').agg({'Success_Value': 'mean','Success':'count'}).collect()"
   ]
  },
  {
   "cell_type": "code",
   "execution_count": null,
   "metadata": {},
   "outputs": [],
   "source": []
  },
  {
   "cell_type": "code",
   "execution_count": 9,
   "metadata": {},
   "outputs": [],
   "source": [
    "logon_df = pd.DataFrame(logon_df)\n",
    "logon_df.columns = ['logon_type','avg_success','count_success']"
   ]
  },
  {
   "cell_type": "code",
   "execution_count": null,
   "metadata": {},
   "outputs": [],
   "source": []
  },
  {
   "cell_type": "code",
   "execution_count": 10,
   "metadata": {},
   "outputs": [
    {
     "data": {
      "text/html": [
       "<div>\n",
       "<style scoped>\n",
       "    .dataframe tbody tr th:only-of-type {\n",
       "        vertical-align: middle;\n",
       "    }\n",
       "\n",
       "    .dataframe tbody tr th {\n",
       "        vertical-align: top;\n",
       "    }\n",
       "\n",
       "    .dataframe thead th {\n",
       "        text-align: right;\n",
       "    }\n",
       "</style>\n",
       "<table border=\"1\" class=\"dataframe\">\n",
       "  <thead>\n",
       "    <tr style=\"text-align: right;\">\n",
       "      <th></th>\n",
       "      <th>logon_type</th>\n",
       "      <th>avg_success</th>\n",
       "      <th>count_success</th>\n",
       "    </tr>\n",
       "  </thead>\n",
       "  <tbody>\n",
       "    <tr>\n",
       "      <th>0</th>\n",
       "      <td>RemoteInteractive</td>\n",
       "      <td>0.944963</td>\n",
       "      <td>3216</td>\n",
       "    </tr>\n",
       "    <tr>\n",
       "      <th>1</th>\n",
       "      <td>NewCredentials</td>\n",
       "      <td>0.980679</td>\n",
       "      <td>7453</td>\n",
       "    </tr>\n",
       "    <tr>\n",
       "      <th>2</th>\n",
       "      <td>Interactive</td>\n",
       "      <td>0.961738</td>\n",
       "      <td>57106</td>\n",
       "    </tr>\n",
       "    <tr>\n",
       "      <th>3</th>\n",
       "      <td>CachedInteractive</td>\n",
       "      <td>0.889208</td>\n",
       "      <td>4522</td>\n",
       "    </tr>\n",
       "    <tr>\n",
       "      <th>4</th>\n",
       "      <td>NetworkCleartext</td>\n",
       "      <td>0.995702</td>\n",
       "      <td>7678</td>\n",
       "    </tr>\n",
       "    <tr>\n",
       "      <th>5</th>\n",
       "      <td>Network</td>\n",
       "      <td>0.997269</td>\n",
       "      <td>12833548</td>\n",
       "    </tr>\n",
       "    <tr>\n",
       "      <th>6</th>\n",
       "      <td>Batch</td>\n",
       "      <td>0.924853</td>\n",
       "      <td>30926</td>\n",
       "    </tr>\n",
       "    <tr>\n",
       "      <th>7</th>\n",
       "      <td>?</td>\n",
       "      <td>0.973291</td>\n",
       "      <td>2489344</td>\n",
       "    </tr>\n",
       "    <tr>\n",
       "      <th>8</th>\n",
       "      <td>Service</td>\n",
       "      <td>0.999707</td>\n",
       "      <td>228900</td>\n",
       "    </tr>\n",
       "    <tr>\n",
       "      <th>9</th>\n",
       "      <td>Unlock</td>\n",
       "      <td>0.964649</td>\n",
       "      <td>78075</td>\n",
       "    </tr>\n",
       "  </tbody>\n",
       "</table>\n",
       "</div>"
      ],
      "text/plain": [
       "          logon_type  avg_success  count_success\n",
       "0  RemoteInteractive     0.944963           3216\n",
       "1     NewCredentials     0.980679           7453\n",
       "2        Interactive     0.961738          57106\n",
       "3  CachedInteractive     0.889208           4522\n",
       "4   NetworkCleartext     0.995702           7678\n",
       "5            Network     0.997269       12833548\n",
       "6              Batch     0.924853          30926\n",
       "7                  ?     0.973291        2489344\n",
       "8            Service     0.999707         228900\n",
       "9             Unlock     0.964649          78075"
      ]
     },
     "execution_count": 10,
     "metadata": {},
     "output_type": "execute_result"
    }
   ],
   "source": [
    "logon_df"
   ]
  },
  {
   "cell_type": "markdown",
   "metadata": {},
   "source": [
    "# Investigate unique users counts by logon type"
   ]
  },
  {
   "cell_type": "code",
   "execution_count": 11,
   "metadata": {},
   "outputs": [],
   "source": [
    "interactive_src_df = auth_df.filter(\"logon_type = 'Interactive'\").groupBy('src_user_domain').agg({'Success_Value': 'mean','Success':'count'}).collect()\n",
    "interactive_dst_df = auth_df.filter(\"logon_type = 'Interactive'\").groupBy('dst_user_domain').agg({'Success_Value': 'mean','Success':'count'}).collect()"
   ]
  },
  {
   "cell_type": "code",
   "execution_count": 12,
   "metadata": {},
   "outputs": [],
   "source": [
    "interactive_src_df = pd.DataFrame(interactive_src_df)"
   ]
  },
  {
   "cell_type": "code",
   "execution_count": 13,
   "metadata": {},
   "outputs": [],
   "source": [
    "interactive_src_df.columns = ['logon_type','avg_success','count_success']"
   ]
  },
  {
   "cell_type": "code",
   "execution_count": 14,
   "metadata": {},
   "outputs": [],
   "source": [
    "interactive_src_df = interactive_src_df.sort_values('count_success',ascending=False)"
   ]
  },
  {
   "cell_type": "code",
   "execution_count": 15,
   "metadata": {},
   "outputs": [],
   "source": [
    "interactive_dst_df = pd.DataFrame(interactive_dst_df)\n",
    "interactive_dst_df.columns = ['logon_type','avg_success','count_success']\n",
    "interactive_dst_df = interactive_dst_df.sort_values('count_success',ascending=False)"
   ]
  },
  {
   "cell_type": "code",
   "execution_count": 16,
   "metadata": {},
   "outputs": [
    {
     "data": {
      "text/plain": [
       "5055"
      ]
     },
     "execution_count": 16,
     "metadata": {},
     "output_type": "execute_result"
    }
   ],
   "source": [
    "len(interactive_dst_df)"
   ]
  },
  {
   "cell_type": "code",
   "execution_count": 23,
   "metadata": {},
   "outputs": [
    {
     "data": {
      "text/plain": [
       "(array([5.051e+03, 0.000e+00, 2.000e+00, 1.000e+00, 0.000e+00, 0.000e+00,\n",
       "        0.000e+00, 0.000e+00, 0.000e+00, 1.000e+00]),\n",
       " array([1.00000e+00, 2.57290e+03, 5.14480e+03, 7.71670e+03, 1.02886e+04,\n",
       "        1.28605e+04, 1.54324e+04, 1.80043e+04, 2.05762e+04, 2.31481e+04,\n",
       "        2.57200e+04]),\n",
       " <a list of 10 Patch objects>)"
      ]
     },
     "execution_count": 23,
     "metadata": {},
     "output_type": "execute_result"
    },
    {
     "data": {
      "image/png": "[encoded data removed]",
      "text/plain": [
       "<Figure size 432x288 with 1 Axes>"
      ]
     },
     "metadata": {
      "needs_background": "light"
     },
     "output_type": "display_data"
    }
   ],
   "source": [
    "interactive_dst_DOM_df = "
   ]
  },
  {
   "cell_type": "code",
   "execution_count": 24,
   "metadata": {},
   "outputs": [
    {
     "data": {
      "text/plain": [
       "(array([5.518e+03, 0.000e+00, 3.000e+00, 0.000e+00, 0.000e+00, 0.000e+00,\n",
       "        0.000e+00, 1.000e+00, 0.000e+00, 1.000e+00]),\n",
       " array([1.00000e+00, 1.76750e+03, 3.53400e+03, 5.30050e+03, 7.06700e+03,\n",
       "        8.83350e+03, 1.06000e+04, 1.23665e+04, 1.41330e+04, 1.58995e+04,\n",
       "        1.76660e+04]),\n",
       " <a list of 10 Patch objects>)"
      ]
     },
     "execution_count": 24,
     "metadata": {},
     "output_type": "execute_result"
    },
    {
     "data": {
      "image/png": "[encoded data removed]",
      "text/plain": [
       "<Figure size 432x288 with 1 Axes>"
      ]
     },
     "metadata": {
      "needs_background": "light"
     },
     "output_type": "display_data"
    }
   ],
   "source": [
    "plt.hist(interactive_src_df['count_success'])"
   ]
  },
  {
   "cell_type": "code",
   "execution_count": 17,
   "metadata": {},
   "outputs": [
    {
     "data": {
      "text/plain": [
       "5523"
      ]
     },
     "execution_count": 17,
     "metadata": {},
     "output_type": "execute_result"
    }
   ],
   "source": [
    "len(interactive_src_df)"
   ]
  },
  {
   "cell_type": "code",
   "execution_count": null,
   "metadata": {},
   "outputs": [],
   "source": []
  }
 ],
 "metadata": {
  "kernelspec": {
   "display_name": "Python 3",
   "language": "python",
   "name": "python3"
  },
  "language_info": {
   "codemirror_mode": {
    "name": "ipython",
    "version": 3
   },
   "file_extension": ".py",
   "mimetype": "text/x-python",
   "name": "python",
   "nbconvert_exporter": "python",
   "pygments_lexer": "ipython3",
   "version": "3.7.3"
  }
 },
 "nbformat": 4,
 "nbformat_minor": 2
}

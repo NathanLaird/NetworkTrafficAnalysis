{
 "cells": [
  {
   "cell_type": "code",
   "execution_count": 41,
   "metadata": {},
   "outputs": [],
   "source": [
    "import pyspark as ps\n",
    "import pandas as pd\n",
    "import matplotlib.pyplot as plt\n",
    "spark = (ps.sql.SparkSession.builder \n",
    "        .master(\"local[4]\") \n",
    "        .appName(\"nathanscope\") \n",
    "        .getOrCreate()\n",
    "        )"
   ]
  },
  {
   "cell_type": "code",
   "execution_count": 2,
   "metadata": {},
   "outputs": [],
   "source": [
    "sc = spark.sparkContext"
   ]
  },
  {
   "cell_type": "code",
   "execution_count": null,
   "metadata": {},
   "outputs": [],
   "source": []
  },
  {
   "cell_type": "code",
   "execution_count": 3,
   "metadata": {},
   "outputs": [],
   "source": [
    "def auth_casting_function(row):\n",
    "    (time, scr_user, dst_user, src_comp, dst_comp, auth_type,logon_type,auth_orientation,success) = row\n",
    "    feilds = [time, scr_user, dst_user, src_comp, dst_comp, auth_type,logon_type,auth_orientation,success]\n",
    "    \n",
    "    print('success')\n",
    "    if(time=='?'):\n",
    "        time = 666999666\n",
    "    return (int(time),scr_user, dst_user, src_comp, dst_comp, auth_type,logon_type,auth_orientation,success)"
   ]
  },
  {
   "cell_type": "code",
   "execution_count": 4,
   "metadata": {},
   "outputs": [],
   "source": [
    "def proc_casting_function(row):\n",
    "    (time,user_domain,comp,proc_name,start) = row\n",
    "    if(time=='?'):\n",
    "        time = 666999666\n",
    "    return (int(time),user_domain,comp,proc_name,start)"
   ]
  },
  {
   "cell_type": "code",
   "execution_count": 5,
   "metadata": {},
   "outputs": [],
   "source": [
    "def flow_casting_function(row):\n",
    "    (time, duration,src_comp,src_port,dst_comp,dst_port,protocol,pk_count,byte_count) = row\n",
    "    if(time=='?'):\n",
    "        time = 666999666\n",
    "    return (int(time),int(duration),src_comp,src_port,dst_comp,dst_port,protocol,int(pk_count),int(byte_count))"
   ]
  },
  {
   "cell_type": "code",
   "execution_count": 6,
   "metadata": {},
   "outputs": [],
   "source": [
    "def DNS_casting_function(row):\n",
    "    (time, src_comp,comp_resolved) = row\n",
    "    if(time=='?'):\n",
    "        time = 666999666\n",
    "    return (int(time),src_comp,comp_resolved)"
   ]
  },
  {
   "cell_type": "code",
   "execution_count": 7,
   "metadata": {},
   "outputs": [],
   "source": [
    "# import the many data types\n",
    "from pyspark.sql.types import *\n",
    "\n",
    "# create a schema of your own\n",
    "auth_schema = StructType( [\n",
    "    StructField('time',     LongType(), True),\n",
    "    StructField('src_user_domain',   StringType(),  True),\n",
    "    StructField('dst_user_domain',   StringType(),  True),\n",
    "    StructField('src_comp',   StringType(),  True),\n",
    "    StructField('dst_comp',   StringType(),  True),\n",
    "    StructField('auth_type',  StringType(), True),\n",
    "    StructField('logon_type',  StringType(),  True),\n",
    "    StructField('auth_orientation',  StringType(),  True),\n",
    "    StructField('Success',  StringType(),  True)] )\n",
    "\n",
    "proc_schema = StructType( [\n",
    "    StructField('time',     LongType(), True),\n",
    "    StructField('user_domain',   StringType(),  True),\n",
    "    StructField('comp',   StringType(),  True),\n",
    "    StructField('proc_name',   StringType(),  True),\n",
    "    StructField('start',   StringType(),  True),\n",
    "    ] )\n",
    "\n",
    "flow_schema = StructType( [\n",
    "    StructField('time',     LongType(), True),\n",
    "    StructField('duration',     LongType(), True),\n",
    "    StructField('src_comp',   StringType(),  True),\n",
    "    StructField('src_port',   StringType(),  True),\n",
    "    StructField('dst_comp',   StringType(),  True),\n",
    "    StructField('dst_port',   StringType(),  True),\n",
    "    StructField('protocol',  StringType(), True),\n",
    "    StructField('pk_count',  LongType(),  True),\n",
    "    StructField('byte_count',  LongType(),  True)] )\n",
    "\n",
    "DNS_schema = StructType( [\n",
    "    StructField('time',     LongType(), True),\n",
    "    StructField('src_comp',   StringType(),  True),\n",
    "    StructField('comp_resolved',   StringType(),  True),\n",
    "    \n",
    "    ] )\n",
    "\n",
    "## Create RDDS from Text Input\n",
    "\n",
    "rdd_auth = (sc.pickleFile(\"Data/Day1/auth/part*\")\n",
    "            \n",
    "           )\n",
    "\n",
    "rdd_proc = (sc.pickleFile(\"Data/Day1/proc/part*\")\n",
    "            \n",
    "           )\n",
    "\n",
    "rdd_flow = (sc.pickleFile('Data/Day1/flow/part*')\n",
    "           )\n",
    "\n",
    "rdd_DNS = (sc.pickleFile(\"Data/Day1/DNS/part*\")\n",
    "           \n",
    "           )\n",
    "\n",
    "## Create DataFrames from RDDs and "
   ]
  },
  {
   "cell_type": "code",
   "execution_count": 8,
   "metadata": {},
   "outputs": [],
   "source": [
    "auth_df = spark.createDataFrame(rdd_auth,auth_schema)\n",
    "\n",
    "proc_df = spark.createDataFrame(rdd_proc,proc_schema)\n",
    "\n",
    "flow_df = spark.createDataFrame(rdd_flow,flow_schema)\n",
    "\n",
    "DNS_df = spark.createDataFrame(rdd_DNS,DNS_schema)"
   ]
  },
  {
   "cell_type": "code",
   "execution_count": null,
   "metadata": {},
   "outputs": [],
   "source": [
    "\n",
    "            \n",
    "           "
   ]
  },
  {
   "cell_type": "code",
   "execution_count": null,
   "metadata": {},
   "outputs": [],
   "source": []
  },
  {
   "cell_type": "code",
   "execution_count": 9,
   "metadata": {},
   "outputs": [],
   "source": [
    "len_flow = rdd_flow.count()"
   ]
  },
  {
   "cell_type": "code",
   "execution_count": 10,
   "metadata": {},
   "outputs": [
    {
     "data": {
      "text/plain": [
       "8366186"
      ]
     },
     "execution_count": 10,
     "metadata": {},
     "output_type": "execute_result"
    }
   ],
   "source": [
    "len_flow"
   ]
  },
  {
   "cell_type": "code",
   "execution_count": 11,
   "metadata": {},
   "outputs": [],
   "source": [
    "## Describe Data Sources and then save locally"
   ]
  },
  {
   "cell_type": "markdown",
   "metadata": {},
   "source": [
    "auth_Describe = auth_df.describe().collect()"
   ]
  },
  {
   "cell_type": "markdown",
   "metadata": {},
   "source": [
    "proc_Describe = proc_df.describe().collect()"
   ]
  },
  {
   "cell_type": "markdown",
   "metadata": {},
   "source": [
    "flow_Describe = flow_df.describe().collect()"
   ]
  },
  {
   "cell_type": "markdown",
   "metadata": {},
   "source": [
    "DNS_Describe = DNS_df.describe().collect()"
   ]
  },
  {
   "cell_type": "markdown",
   "metadata": {},
   "source": [
    "flow_Describe"
   ]
  },
  {
   "cell_type": "markdown",
   "metadata": {},
   "source": [
    "auth_desc_df = pd.DataFrame(auth_Describe)\n",
    "auth_desc_df.columns = ['summary'] + auth_df.schema.names"
   ]
  },
  {
   "cell_type": "markdown",
   "metadata": {},
   "source": [
    "proc_desc_df = pd.DataFrame(proc_Describe)\n",
    "proc_desc_df.columns = ['summary'] + proc_df.schema.names"
   ]
  },
  {
   "cell_type": "markdown",
   "metadata": {},
   "source": [
    "flow_desc_df = pd.DataFrame(flow_Describe)\n",
    "flow_desc_df.columns = ['summary'] + flow_df.schema.names"
   ]
  },
  {
   "cell_type": "markdown",
   "metadata": {},
   "source": [
    "DNS_desc_df = pd.DataFrame(DNS_Describe)\n",
    "DNS_desc_df.columns = ['summary'] + DNS_df.schema.names"
   ]
  },
  {
   "cell_type": "markdown",
   "metadata": {},
   "source": [
    "auth_desc_df.to_csv('Summary/Day1/auth.csv')\n",
    "proc_desc_df.to_csv('Summary/Day1/proc.csv')\n",
    "flow_desc_df.to_csv('Summary/Day1/flow.csv')\n",
    "DNS_desc_df.to_csv('Summary/Day1/DNS.csv')"
   ]
  },
  {
   "cell_type": "code",
   "execution_count": 12,
   "metadata": {},
   "outputs": [
    {
     "name": "stdout",
     "output_type": "stream",
     "text": [
      "+-----+--------+--------+--------+--------+--------+--------+--------+----------+\n",
      "| time|duration|src_comp|src_port|dst_comp|dst_port|protocol|pk_count|byte_count|\n",
      "+-----+--------+--------+--------+--------+--------+--------+--------+----------+\n",
      "|47737|       0|  C24025|   N9773|   C1707|    N368|       6|       8|      1346|\n",
      "|47737|       0|   C2614|   N7656|    C585|     139|       6|       2|        94|\n",
      "|47737|       0|   C2852|   N3047|   C5030|     443|       6|       2|        92|\n",
      "|47737|       0|   C2908|    N217|    C467|    N218|       1|       1|        60|\n",
      "|47737|       0|   C3623|   N3257|    C706|      80|       6|       8|      3632|\n",
      "|47737|       0|    C366|     445|  C13923|   N4402|       6|       1|        46|\n",
      "|47737|       0|    C467|    N218|   C2908|    N218|       1|       1|        60|\n",
      "|47737|       0|   C5030|     443|   C2852|   N3047|       6|       1|        46|\n",
      "|47737|       0|    C528|     123|   C4230|     123|      17|       1|        96|\n",
      "|47737|       0|    C528|     445|    C822|   N4398|       6|       1|        46|\n",
      "|47737|       0|    C528|    N218|   C3871|    N218|       1|       2|       120|\n",
      "|47737|       0|   C5720|     445|  C11491|   N4401|       6|       1|        91|\n",
      "|47737|       0|   C5721|     139|   C8207|  N15015|       6|       1|        48|\n",
      "|47737|       0|   C5721|     445|  C11116|   N3297|       6|      10|      2276|\n",
      "|47737|       0|    C612|     389|  C12985|  N15760|      17|       1|       191|\n",
      "|47737|       0|    C612|      88|  C12985|  N15016|       6|       6|      1764|\n",
      "|47737|       0|    C706|      80|  C15326|   N3827|       6|       7|      4125|\n",
      "|47737|       0|    C706|      80|  C15445|    N877|       6|       7|      4129|\n",
      "|47737|       0|    C706|      80|   C3623|   N3257|       6|       7|      4128|\n",
      "|47737|       0|    C706|      80|   C5240|  N13025|       6|       4|       515|\n",
      "+-----+--------+--------+--------+--------+--------+--------+--------+----------+\n",
      "only showing top 20 rows\n",
      "\n"
     ]
    }
   ],
   "source": [
    "flow_df.show(20)"
   ]
  },
  {
   "cell_type": "markdown",
   "metadata": {},
   "source": [
    "## Add Interval Column"
   ]
  },
  {
   "cell_type": "code",
   "execution_count": 13,
   "metadata": {},
   "outputs": [],
   "source": [
    "#divide data frame into increments of 10 minutes\n",
    "interval_size = 600"
   ]
  },
  {
   "cell_type": "code",
   "execution_count": 14,
   "metadata": {},
   "outputs": [],
   "source": [
    "from pyspark.sql.functions import udf\n",
    "from pyspark.sql.types import StringType"
   ]
  },
  {
   "cell_type": "code",
   "execution_count": 21,
   "metadata": {},
   "outputs": [],
   "source": [
    "make_interval = udf(lambda x :  str((x//interval_size)*interval_size).zfill(7))"
   ]
  },
  {
   "cell_type": "code",
   "execution_count": 22,
   "metadata": {},
   "outputs": [],
   "source": [
    "flow_time_df = flow_df.withColumn('interval', make_interval(flow_df['time']))\n"
   ]
  },
  {
   "cell_type": "code",
   "execution_count": null,
   "metadata": {},
   "outputs": [],
   "source": []
  },
  {
   "cell_type": "code",
   "execution_count": 23,
   "metadata": {},
   "outputs": [
    {
     "name": "stdout",
     "output_type": "stream",
     "text": [
      "+-----+--------+--------+--------+--------+--------+--------+--------+----------+--------+\n",
      "| time|duration|src_comp|src_port|dst_comp|dst_port|protocol|pk_count|byte_count|interval|\n",
      "+-----+--------+--------+--------+--------+--------+--------+--------+----------+--------+\n",
      "|47737|       0|  C24025|   N9773|   C1707|    N368|       6|       8|      1346| 0047400|\n",
      "|47737|       0|   C2614|   N7656|    C585|     139|       6|       2|        94| 0047400|\n",
      "|47737|       0|   C2852|   N3047|   C5030|     443|       6|       2|        92| 0047400|\n",
      "|47737|       0|   C2908|    N217|    C467|    N218|       1|       1|        60| 0047400|\n",
      "|47737|       0|   C3623|   N3257|    C706|      80|       6|       8|      3632| 0047400|\n",
      "|47737|       0|    C366|     445|  C13923|   N4402|       6|       1|        46| 0047400|\n",
      "|47737|       0|    C467|    N218|   C2908|    N218|       1|       1|        60| 0047400|\n",
      "|47737|       0|   C5030|     443|   C2852|   N3047|       6|       1|        46| 0047400|\n",
      "|47737|       0|    C528|     123|   C4230|     123|      17|       1|        96| 0047400|\n",
      "|47737|       0|    C528|     445|    C822|   N4398|       6|       1|        46| 0047400|\n",
      "|47737|       0|    C528|    N218|   C3871|    N218|       1|       2|       120| 0047400|\n",
      "|47737|       0|   C5720|     445|  C11491|   N4401|       6|       1|        91| 0047400|\n",
      "|47737|       0|   C5721|     139|   C8207|  N15015|       6|       1|        48| 0047400|\n",
      "|47737|       0|   C5721|     445|  C11116|   N3297|       6|      10|      2276| 0047400|\n",
      "|47737|       0|    C612|     389|  C12985|  N15760|      17|       1|       191| 0047400|\n",
      "|47737|       0|    C612|      88|  C12985|  N15016|       6|       6|      1764| 0047400|\n",
      "|47737|       0|    C706|      80|  C15326|   N3827|       6|       7|      4125| 0047400|\n",
      "|47737|       0|    C706|      80|  C15445|    N877|       6|       7|      4129| 0047400|\n",
      "|47737|       0|    C706|      80|   C3623|   N3257|       6|       7|      4128| 0047400|\n",
      "|47737|       0|    C706|      80|   C5240|  N13025|       6|       4|       515| 0047400|\n",
      "+-----+--------+--------+--------+--------+--------+--------+--------+----------+--------+\n",
      "only showing top 20 rows\n",
      "\n"
     ]
    }
   ],
   "source": [
    "flow_time_df.show()"
   ]
  },
  {
   "cell_type": "code",
   "execution_count": 32,
   "metadata": {},
   "outputs": [],
   "source": [
    "flow_time_series = flow_time_df.groupBy('interval').agg({'duration': 'mean','pk_count':'sum','byte_count':'sum'}).collect()\n",
    "\n",
    "\n"
   ]
  },
  {
   "cell_type": "code",
   "execution_count": 31,
   "metadata": {},
   "outputs": [
    {
     "data": {
      "text/plain": [
       "144"
      ]
     },
     "execution_count": 31,
     "metadata": {},
     "output_type": "execute_result"
    }
   ],
   "source": [
    "len(flow_time_series)"
   ]
  },
  {
   "cell_type": "code",
   "execution_count": 38,
   "metadata": {},
   "outputs": [],
   "source": [
    "flow_time_series_df = pd.DataFrame(flow_time_series)\n",
    "flow_time_series_df.columns = ['interval','duration','pk_count','byte_count']"
   ]
  },
  {
   "cell_type": "code",
   "execution_count": 45,
   "metadata": {},
   "outputs": [
    {
     "data": {
      "text/plain": [
       "[<matplotlib.lines.Line2D at 0x11874db38>]"
      ]
     },
     "execution_count": 45,
     "metadata": {},
     "output_type": "execute_result"
    },
    {
     "data": {
      "image/png": "[encoded data removed]",
      "text/plain": [
       "<Figure size 432x288 with 1 Axes>"
      ]
     },
     "metadata": {
      "needs_background": "light"
     },
     "output_type": "display_data"
    }
   ],
   "source": [
    "flow_time_series_df = flow_time_series_df.sort_values(['interval'])\n",
    "plt.plot(flow_time_series_df['interval'],flow_time_series_df['byte_count']/flow_time_series_df['pk_count'])\n"
   ]
  },
  {
   "cell_type": "code",
   "execution_count": null,
   "metadata": {},
   "outputs": [],
   "source": [
    "from pyspark.sql.functions import lit\n",
    "\n",
    "flow_time_df = flow_df.withColumn(\"interval\",lit(flow_df.rdd.map(lambda x: str((x.time//interval_size)*interval_size).zfill(12)).collect()) )"
   ]
  },
  {
   "cell_type": "code",
   "execution_count": null,
   "metadata": {},
   "outputs": [],
   "source": [
    "flow_time_df.show()"
   ]
  }
 ],
 "metadata": {
  "kernelspec": {
   "display_name": "Python 3",
   "language": "python",
   "name": "python3"
  },
  "language_info": {
   "codemirror_mode": {
    "name": "ipython",
    "version": 3
   },
   "file_extension": ".py",
   "mimetype": "text/x-python",
   "name": "python",
   "nbconvert_exporter": "python",
   "pygments_lexer": "ipython3",
   "version": "3.7.3"
  }
 },
 "nbformat": 4,
 "nbformat_minor": 2
}

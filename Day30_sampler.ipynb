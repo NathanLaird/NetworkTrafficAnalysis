{
 "cells": [
  {
   "cell_type": "code",
   "execution_count": null,
   "metadata": {},
   "outputs": [],
   "source": [
    "import pyspark as ps\n",
    "\n",
    "spark = (ps.sql.SparkSession.builder \n",
    "        .master(\"local[4]\") \n",
    "        .appName(\"nathanscope\") \n",
    "        .getOrCreate()\n",
    "        )"
   ]
  },
  {
   "cell_type": "code",
   "execution_count": null,
   "metadata": {},
   "outputs": [],
   "source": [
    "sc = spark.sparkContext"
   ]
  },
  {
   "cell_type": "markdown",
   "metadata": {},
   "source": [
    "# Abstract"
   ]
  },
  {
   "cell_type": "markdown",
   "metadata": {},
   "source": [
    "# Create Spark Data Frames\n",
    "- Auth: Authentication events between networked computer\n",
    "- Proc: Start and Stop Times for Proccesses run on machines from AV Software\n",
    "- Flow: Duration, Byte and Packet Count for Data Moving Between Machines\n",
    "- DNS: DNS Entries and Lookup Resolution(Not used in IP Literal Transactions)"
   ]
  },
  {
   "cell_type": "code",
   "execution_count": null,
   "metadata": {},
   "outputs": [],
   "source": []
  },
  {
   "cell_type": "markdown",
   "metadata": {},
   "source": [
    "## Define Casting Functions for RDDS"
   ]
  },
  {
   "cell_type": "code",
   "execution_count": null,
   "metadata": {},
   "outputs": [],
   "source": []
  },
  {
   "cell_type": "code",
   "execution_count": null,
   "metadata": {},
   "outputs": [],
   "source": [
    "def auth_casting_function(row):\n",
    "    (time, scr_user, dst_user, src_comp, dst_comp, auth_type,logon_type,auth_orientation,success) = row\n",
    "    if(time=='?'):\n",
    "        time = 666999666\n",
    "    return (int(time),scr_user, dst_user, src_comp, dst_comp, auth_type,logon_type,auth_orientation,success)"
   ]
  },
  {
   "cell_type": "code",
   "execution_count": null,
   "metadata": {},
   "outputs": [],
   "source": [
    "def proc_casting_function(row):\n",
    "    (time,user_domain,comp,proc_name,start) = row\n",
    "    if(time=='?'):\n",
    "        time = 666999666\n",
    "    return (int(time),user_domain,comp,proc_name,start)"
   ]
  },
  {
   "cell_type": "code",
   "execution_count": null,
   "metadata": {},
   "outputs": [],
   "source": [
    "def flow_casting_function(row):\n",
    "    (time, duration,src_comp,src_port,dst_comp,dst_port,protocol,pk_count,byte_count) = row\n",
    "    if(time=='?'):\n",
    "        time = 666999666\n",
    "    return (int(time),int(duration),src_comp,src_port,dst_comp,dst_port,protocol,int(pk_count),int(byte_count))"
   ]
  },
  {
   "cell_type": "code",
   "execution_count": null,
   "metadata": {},
   "outputs": [],
   "source": [
    "def DNS_casting_function(row):\n",
    "    (time, src_comp,comp_resolved) = row\n",
    "    if(time=='?'):\n",
    "        time = 666999666\n",
    "    return (int(time),src_comp,comp_resolved)"
   ]
  },
  {
   "cell_type": "markdown",
   "metadata": {},
   "source": [
    "## Define Schema for DataFrames"
   ]
  },
  {
   "cell_type": "code",
   "execution_count": null,
   "metadata": {},
   "outputs": [],
   "source": [
    "# import the many data types\n",
    "from pyspark.sql.types import *\n",
    "\n",
    "# create a schema of your own\n",
    "auth_schema = StructType( [\n",
    "    StructField('time',     LongType(), True),\n",
    "    StructField('src_user_domain',   StringType(),  True),\n",
    "    StructField('dst_user_domain',   StringType(),  True),\n",
    "    StructField('src_comp',   StringType(),  True),\n",
    "    StructField('dst_comp',   StringType(),  True),\n",
    "    StructField('auth_type',  StringType(), True),\n",
    "    StructField('logon_type',  StringType(),  True),\n",
    "    StructField('auth_orientation',  StringType(),  True),\n",
    "    StructField('Success',  StringType(),  True)] )"
   ]
  },
  {
   "cell_type": "code",
   "execution_count": null,
   "metadata": {},
   "outputs": [],
   "source": [
    "proc_schema = StructType( [\n",
    "    StructField('time',     LongType(), True),\n",
    "    StructField('user_domain',   StringType(),  True),\n",
    "    StructField('comp',   StringType(),  True),\n",
    "    StructField('proc_name',   StringType(),  True),\n",
    "    StructField('start',   StringType(),  True),\n",
    "    ] )"
   ]
  },
  {
   "cell_type": "code",
   "execution_count": null,
   "metadata": {},
   "outputs": [],
   "source": [
    "flow_schema = StructType( [\n",
    "    StructField('time',     LongType(), True),\n",
    "    StructField('duration',     LongType(), True),\n",
    "    StructField('src_comp',   StringType(),  True),\n",
    "    StructField('src_port',   StringType(),  True),\n",
    "    StructField('dst_comp',   StringType(),  True),\n",
    "    StructField('dst_port',   StringType(),  True),\n",
    "    StructField('protocol',  StringType(), True),\n",
    "    StructField('pk_count',  LongType(),  True),\n",
    "    StructField('byte_count',  LongType(),  True)] )"
   ]
  },
  {
   "cell_type": "code",
   "execution_count": null,
   "metadata": {},
   "outputs": [],
   "source": [
    "DNS_schema = StructType( [\n",
    "    StructField('time',     LongType(), True),\n",
    "    StructField('src_comp',   StringType(),  True),\n",
    "    StructField('comp_resolved',   StringType(),  True),\n",
    "    \n",
    "    ] )"
   ]
  },
  {
   "cell_type": "markdown",
   "metadata": {},
   "source": [
    "## Create RDDS from Text Input"
   ]
  },
  {
   "cell_type": "code",
   "execution_count": null,
   "metadata": {},
   "outputs": [],
   "source": [
    "rdd_auth = (sc.textFile('data/auth.txt')\n",
    "            .map(lambda rowstr : rowstr.split(\",\"))\n",
    "            .map(auth_casting_function)\n",
    "           )"
   ]
  },
  {
   "cell_type": "code",
   "execution_count": null,
   "metadata": {},
   "outputs": [],
   "source": [
    "rdd_proc = (sc.textFile('data/proc.txt')\n",
    "            .map(lambda rowstr : rowstr.split(\",\"))\n",
    "            .map(proc_casting_function)\n",
    "           )"
   ]
  },
  {
   "cell_type": "code",
   "execution_count": null,
   "metadata": {},
   "outputs": [],
   "source": [
    "rdd_flow = (sc.textFile('data/flows.txt')\n",
    "            .map(lambda rowstr : rowstr.split(\",\"))\n",
    "            .map(flow_casting_function)\n",
    "           )"
   ]
  },
  {
   "cell_type": "code",
   "execution_count": null,
   "metadata": {},
   "outputs": [],
   "source": [
    "rdd_DNS = (sc.textFile('data/dns.txt')\n",
    "            .map(lambda rowstr : rowstr.split(\",\"))\n",
    "            .map(DNS_casting_function)\n",
    "           )"
   ]
  },
  {
   "cell_type": "markdown",
   "metadata": {},
   "source": [
    "## Create DataFrames from RDDs and "
   ]
  },
  {
   "cell_type": "code",
   "execution_count": null,
   "metadata": {},
   "outputs": [],
   "source": [
    "auth_df = spark.createDataFrame(rdd_auth,auth_schema)"
   ]
  },
  {
   "cell_type": "code",
   "execution_count": null,
   "metadata": {},
   "outputs": [],
   "source": [
    "proc_df = spark.createDataFrame(rdd_proc,proc_schema)"
   ]
  },
  {
   "cell_type": "code",
   "execution_count": null,
   "metadata": {},
   "outputs": [],
   "source": [
    "flow_df = spark.createDataFrame(rdd_flow,flow_schema)"
   ]
  },
  {
   "cell_type": "code",
   "execution_count": null,
   "metadata": {},
   "outputs": [],
   "source": [
    "DNS_df = spark.createDataFrame(rdd_DNS,DNS_schema)"
   ]
  },
  {
   "cell_type": "markdown",
   "metadata": {},
   "source": [
    "time,   source user@domain,   destination user@domain,  source computer,   destination computer,  authentication type,    logon type,   authentication orientation,  success/failure\""
   ]
  },
  {
   "cell_type": "markdown",
   "metadata": {},
   "source": [
    "# Sample First Day"
   ]
  },
  {
   "cell_type": "markdown",
   "metadata": {},
   "source": [
    "## filter by items in firtst day and Save to Local Files"
   ]
  },
  {
   "cell_type": "code",
   "execution_count": null,
   "metadata": {},
   "outputs": [],
   "source": [
    "auth_df_1 = auth_df.filter(auth_df.time < 2592000)"
   ]
  },
  {
   "cell_type": "code",
   "execution_count": null,
   "metadata": {},
   "outputs": [],
   "source": [
    "auth_df_1.rdd.saveAsPickleFile('Data/Day30/auth')"
   ]
  },
  {
   "cell_type": "code",
   "execution_count": null,
   "metadata": {},
   "outputs": [],
   "source": [
    "proc_df_1 = proc_df.filter(proc_df.time < 2592000)"
   ]
  },
  {
   "cell_type": "code",
   "execution_count": null,
   "metadata": {},
   "outputs": [],
   "source": [
    "proc_df_1.rdd.saveAsPickleFile('Data/Day30/proc')"
   ]
  },
  {
   "cell_type": "code",
   "execution_count": null,
   "metadata": {},
   "outputs": [],
   "source": [
    "flow_df_1 = flow_df.filter(flow_df.time < 2592000)"
   ]
  },
  {
   "cell_type": "code",
   "execution_count": null,
   "metadata": {},
   "outputs": [],
   "source": [
    "flow_df_1.rdd.saveAsPickleFile('Data/Day30/flow')"
   ]
  },
  {
   "cell_type": "code",
   "execution_count": null,
   "metadata": {},
   "outputs": [],
   "source": [
    "DNS_df_1 = DNS_df.filter(DNS_df.time < 2592000)"
   ]
  },
  {
   "cell_type": "code",
   "execution_count": null,
   "metadata": {},
   "outputs": [],
   "source": [
    "DNS_df_1.rdd.saveAsPickleFile('Data/Day30/DNS')"
   ]
  },
  {
   "cell_type": "code",
   "execution_count": null,
   "metadata": {},
   "outputs": [],
   "source": []
  },
  {
   "cell_type": "code",
   "execution_count": null,
   "metadata": {},
   "outputs": [],
   "source": []
  },
  {
   "cell_type": "code",
   "execution_count": null,
   "metadata": {},
   "outputs": [],
   "source": []
  },
  {
   "cell_type": "code",
   "execution_count": null,
   "metadata": {},
   "outputs": [],
   "source": []
  },
  {
   "cell_type": "code",
   "execution_count": null,
   "metadata": {},
   "outputs": [],
   "source": []
  },
  {
   "cell_type": "code",
   "execution_count": null,
   "metadata": {},
   "outputs": [],
   "source": []
  },
  {
   "cell_type": "code",
   "execution_count": null,
   "metadata": {},
   "outputs": [],
   "source": [
    "DNS_1_len = DNS_df_1.count()"
   ]
  },
  {
   "cell_type": "code",
   "execution_count": null,
   "metadata": {},
   "outputs": [],
   "source": [
    "DNS_1_len"
   ]
  },
  {
   "cell_type": "markdown",
   "metadata": {},
   "source": [
    "schema = StructType( [\n",
    "    StructField('id',     IntegerType(), True),\n",
    "    StructField('date',   StringType(),  True),\n",
    "    StructField('store',  IntegerType(), True),\n",
    "    StructField('state',  StringType(),  True),\n",
    "    StructField('product',IntegerType(), True),\n",
    "    StructField('amount', FloatType(),   True) ] )"
   ]
  },
  {
   "cell_type": "markdown",
   "metadata": {},
   "source": [
    "len_auth = rdd_auth.count()"
   ]
  },
  {
   "cell_type": "markdown",
   "metadata": {},
   "source": [
    "len_auth"
   ]
  }
 ],
 "metadata": {
  "kernelspec": {
   "display_name": "Python 3",
   "language": "python",
   "name": "python3"
  },
  "language_info": {
   "codemirror_mode": {
    "name": "ipython",
    "version": 3
   },
   "file_extension": ".py",
   "mimetype": "text/x-python",
   "name": "python",
   "nbconvert_exporter": "python",
   "pygments_lexer": "ipython3",
   "version": "3.7.3"
  }
 },
 "nbformat": 4,
 "nbformat_minor": 2
}

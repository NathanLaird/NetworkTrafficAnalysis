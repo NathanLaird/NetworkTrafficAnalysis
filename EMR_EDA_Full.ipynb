{
 "cells": [
  {
   "cell_type": "code",
   "execution_count": 1,
   "metadata": {},
   "outputs": [],
   "source": [
    "import pyspark as ps\n",
    "import pandas as pd\n",
    "import matplotlib.pyplot as plt\n",
    "from pyspark.sql.functions import udf, array\n",
    "from pyspark.sql.types import StringType\n",
    "from pyspark.sql.functions import col\n",
    "from pyspark.sql.functions import countDistinct\n",
    "import boto\n",
    "spark = (ps.sql.SparkSession.builder \n",
    "        .master(\"local[4]\") \n",
    "        .appName(\"nathanscope\") \n",
    "        .getOrCreate()\n",
    "        )\n",
    "\n"
   ]
  },
  {
   "cell_type": "code",
   "execution_count": 2,
   "metadata": {},
   "outputs": [],
   "source": [
    "def flow_casting_function(row):\n",
    "    (time, duration,src_comp,src_port,dst_comp,dst_port,protocol,pk_count,byte_count) = row\n",
    "    if(time=='?'):\n",
    "        time = 666999666\n",
    "    return (int(time),int(duration),src_comp,src_port,dst_comp,dst_port,protocol,int(pk_count),int(byte_count))\n",
    "\n"
   ]
  },
  {
   "cell_type": "code",
   "execution_count": null,
   "metadata": {},
   "outputs": [],
   "source": [
    "\n"
   ]
  },
  {
   "cell_type": "code",
   "execution_count": 3,
   "metadata": {},
   "outputs": [],
   "source": [
    "from pyspark.sql.types import *\n",
    "\n",
    "flow_schema = StructType( [\n",
    "    StructField('time',     LongType(), True),\n",
    "    StructField('duration',     LongType(), True),\n",
    "    StructField('src_comp',   StringType(),  True),\n",
    "    StructField('src_port',   StringType(),  True),\n",
    "    StructField('dst_comp',   StringType(),  True),\n",
    "    StructField('dst_port',   StringType(),  True),\n",
    "    StructField('protocol',  StringType(), True),\n",
    "    StructField('pk_count',  LongType(),  True),\n",
    "    StructField('byte_count',  LongType(),  True)] )"
   ]
  },
  {
   "cell_type": "code",
   "execution_count": null,
   "metadata": {},
   "outputs": [],
   "source": []
  },
  {
   "cell_type": "code",
   "execution_count": 4,
   "metadata": {},
   "outputs": [],
   "source": [
    "rdd_flow = (sc.textFile('s3://galvanize-dsi/NetworkLogs/flows.txt')\n",
    "            .map(lambda rowstr : rowstr.split(\",\"))\n",
    "            .map(flow_casting_function)\n",
    "           )\n"
   ]
  },
  {
   "cell_type": "code",
   "execution_count": 5,
   "metadata": {},
   "outputs": [],
   "source": [
    "active_comps_df = pd.read_csv('active_comps_df.csv')\n",
    "active_red_team =pd.read_csv('activered_team.csv')\n",
    "active_comps_df.columns = ['ignore','comp','count_user']\n",
    "reds = list(active_red_team['dst_comp'])"
   ]
  },
  {
   "cell_type": "code",
   "execution_count": 6,
   "metadata": {},
   "outputs": [],
   "source": [
    "flow_df = spark.createDataFrame(rdd_flow,flow_schema)"
   ]
  },
  {
   "cell_type": "code",
   "execution_count": 7,
   "metadata": {},
   "outputs": [],
   "source": [
    "active_flow_df = flow_df.where(col(\"src_comp\").isin(list(active_comps_df['comp'])) | col(\"dst_comp\").isin(list(active_comps_df['comp'])))\n",
    "red_flow_df =  flow_df.where(col(\"src_comp\").isin(reds) | col(\"dst_comp\").isin(reds))\n",
    "\n"
   ]
  },
  {
   "cell_type": "code",
   "execution_count": 8,
   "metadata": {},
   "outputs": [],
   "source": [
    "add_download = udf(lambda x : 1 if x in list(active_comps_df['comp']) else 0 )\n",
    "add_upload = udf(lambda x : 1 if x in list(active_comps_df['comp']) else 0 )\n",
    "\n",
    "add_red_download = udf(lambda x : 1 if x in list(reds) else 0 )\n",
    "add_red_upload = udf(lambda x : 1 if x in list(reds) else 0 )\n",
    "\n",
    "\n",
    "active_flow_df = active_flow_df.withColumn('Download', add_download(active_flow_df['dst_comp']))\n",
    "active_flow_df = active_flow_df.withColumn('Upload', add_upload(active_flow_df['src_comp']))\n",
    "\n",
    "flow_df = flow_df.withColumn('Download', add_download(flow_df['dst_comp']))\n",
    "flow_df = flow_df.withColumn('Upload', add_upload(flow_df['src_comp']))\n",
    "\n",
    "red_flow_df = red_flow_df.withColumn('Download', add_red_download(flow_df['dst_comp']))\n",
    "red_flow_df = red_flow_df.withColumn('Upload', add_red_upload(flow_df['src_comp']))"
   ]
  },
  {
   "cell_type": "code",
   "execution_count": 9,
   "metadata": {},
   "outputs": [],
   "source": [
    "\n",
    "\n",
    "red_flow_df = red_flow_df.filter(col('Upload').rlike(\"0\")|col('Download').rlike(\"0\"))\n",
    "flow_df = flow_df.filter(col('Upload').rlike(\"0\")|col('Download').rlike(\"0\"))\n",
    "active_flow_df = active_flow_df.filter(col('Upload').rlike(\"0\")|col('Download').rlike(\"0\"))\n",
    "\n",
    "#active_flow_df = active_flow_df.filter(inter_check(array('Download','Upload')))\n",
    "#flow_df = flow_df.filter(inter_check(array('Download','Upload')))"
   ]
  },
  {
   "cell_type": "code",
   "execution_count": 10,
   "metadata": {},
   "outputs": [],
   "source": [
    "add_count = udf(lambda x : x[1] if x[0]=='1' else 0 )"
   ]
  },
  {
   "cell_type": "code",
   "execution_count": 11,
   "metadata": {},
   "outputs": [],
   "source": [
    "red_flow_df = red_flow_df.withColumn('upload_bytes',add_count(array('Upload','byte_count')))\n",
    "red_flow_df = red_flow_df.withColumn('download_bytes',add_count(array('Download','byte_count')))\n",
    "red_flow_df = red_flow_df.withColumn('upload_pk',add_count(array('Upload','pk_count')))\n",
    "red_flow_df = red_flow_df.withColumn('download_pk',add_count(array('Download','pk_count')))\n"
   ]
  },
  {
   "cell_type": "code",
   "execution_count": 12,
   "metadata": {},
   "outputs": [],
   "source": [
    "active_flow_df = active_flow_df.withColumn('upload_bytes',add_count(array('Upload','byte_count')))\n",
    "active_flow_df = active_flow_df.withColumn('download_bytes',add_count(array('Download','byte_count')))\n",
    "active_flow_df = active_flow_df.withColumn('upload_pk',add_count(array('Upload','pk_count')))\n",
    "active_flow_df = active_flow_df.withColumn('download_pk',add_count(array('Download','pk_count')))\n"
   ]
  },
  {
   "cell_type": "code",
   "execution_count": 13,
   "metadata": {},
   "outputs": [],
   "source": [
    "flow_df = flow_df.withColumn('upload_bytes',add_count(array('Upload','byte_count')))\n",
    "flow_df = flow_df.withColumn('download_bytes',add_count(array('Download','byte_count')))\n",
    "flow_df = flow_df.withColumn('upload_pk',add_count(array('Upload','pk_count')))\n",
    "flow_df = flow_df.withColumn('download_pk',add_count(array('Download','pk_count')))"
   ]
  },
  {
   "cell_type": "markdown",
   "metadata": {},
   "source": [
    "# Add User / Service Columns"
   ]
  },
  {
   "cell_type": "code",
   "execution_count": 14,
   "metadata": {},
   "outputs": [],
   "source": [
    "add_items = udf(lambda x : x[1] if x[0]=='1' else x[2] )"
   ]
  },
  {
   "cell_type": "code",
   "execution_count": 15,
   "metadata": {},
   "outputs": [],
   "source": [
    "red_flow_df = red_flow_df.withColumn('user',add_count(array('Upload','src_comp','dst_comp')))\n",
    "red_flow_df = red_flow_df.withColumn('service',add_count(array('Download','src_comp','dst_comp')))\n"
   ]
  },
  {
   "cell_type": "code",
   "execution_count": 16,
   "metadata": {},
   "outputs": [],
   "source": [
    "flow_df = flow_df.withColumn('user',add_count(array('Upload','src_comp','dst_comp')))\n",
    "flow_df = flow_df.withColumn('service',add_count(array('Download','src_comp','dst_comp')))\n"
   ]
  },
  {
   "cell_type": "code",
   "execution_count": 17,
   "metadata": {},
   "outputs": [],
   "source": [
    "active_flow_df = active_flow_df.withColumn('user',add_count(array('Upload','src_comp','dst_comp')))\n",
    "active_flow_df = active_flow_df.withColumn('service',add_count(array('Download','src_comp','dst_comp')))\n"
   ]
  },
  {
   "cell_type": "code",
   "execution_count": null,
   "metadata": {},
   "outputs": [],
   "source": []
  },
  {
   "cell_type": "code",
   "execution_count": null,
   "metadata": {},
   "outputs": [],
   "source": []
  },
  {
   "cell_type": "code",
   "execution_count": 18,
   "metadata": {},
   "outputs": [],
   "source": [
    "interval_size = 86400"
   ]
  },
  {
   "cell_type": "code",
   "execution_count": null,
   "metadata": {},
   "outputs": [],
   "source": []
  },
  {
   "cell_type": "code",
   "execution_count": 19,
   "metadata": {},
   "outputs": [],
   "source": [
    "make_interval = udf(lambda x :  (x//interval_size)*interval_size)"
   ]
  },
  {
   "cell_type": "code",
   "execution_count": 20,
   "metadata": {},
   "outputs": [],
   "source": [
    "\n",
    "active_flow_df = active_flow_df.withColumn('interval', make_interval(active_flow_df['time']))\n",
    "flow_df = flow_df.withColumn('interval', make_interval(flow_df['time']))\n",
    "red_flow_df = red_flow_df.withColumn('interval', make_interval(red_flow_df['time']))"
   ]
  },
  {
   "cell_type": "code",
   "execution_count": null,
   "metadata": {},
   "outputs": [],
   "source": [
    "#Agregate over interval and user\n",
    "\n",
    "flow_time_series = active_flow_df.groupBy('interval','user').agg({'duration': 'mean','pk_count':'sum','byte_count':'sum','upload_bytes':'sum','download_bytes':'sum','upload_pk':'sum','download_pk':'sum'}).collect()\n"
   ]
  },
  {
   "cell_type": "code",
   "execution_count": null,
   "metadata": {},
   "outputs": [],
   "source": [
    "flow_time_series_df = pd.DataFrame(flow_time_series)\n",
    "flow_time_series_df.columns = ['time','mean_duration','pk_count','byte_count','upload_bytes','download_bytes','upload_pk','download_pk']\n",
    "\n",
    "flow_time_series_df.to_csv('flow_time_series_df.csv')"
   ]
  },
  {
   "cell_type": "code",
   "execution_count": null,
   "metadata": {},
   "outputs": [],
   "source": []
  },
  {
   "cell_type": "code",
   "execution_count": null,
   "metadata": {},
   "outputs": [],
   "source": [
    "flow_time_series_df['time'] = flow_time_series_df['time'].astype('int64')\n",
    "flow_time_series_df = flow_time_series_df.sort_values('time')\n"
   ]
  },
  {
   "cell_type": "markdown",
   "metadata": {},
   "source": [
    "plt.plot(flow_time_series_df['time'],flow_time_series_df['upload_bytes'],label = 'Upload')\n",
    "plt.plot(flow_time_series_df['time'],flow_time_series_df['download_bytes'],label = 'Download')\n",
    "plt.legend()"
   ]
  },
  {
   "cell_type": "markdown",
   "metadata": {},
   "source": [
    "plt.plot(flow_time_series_df['time'],flow_time_series_df['download_bytes']/flow_time_series_df['upload_bytes'])"
   ]
  },
  {
   "cell_type": "code",
   "execution_count": null,
   "metadata": {},
   "outputs": [],
   "source": [
    "reds = list(active_red_team['dst_comp'])"
   ]
  },
  {
   "cell_type": "code",
   "execution_count": null,
   "metadata": {},
   "outputs": [],
   "source": [
    "red_flow_df =  flow_df.where(col(\"src_comp\").isin(reds) | col(\"dst_comp\").isin(reds))\n",
    "red_time_series = red_flow_df.groupBy('interval','user').agg({'duration': 'mean','pk_count':'sum','byte_count':'sum','upload_bytes':'sum','download_bytes':'sum','upload_pk':'sum','download_pk':'sum'}).collect()\n",
    "\n",
    "red_time_series_df = pd.DataFrame(red_time_series)\n",
    "red_time_series_df.columns = ['time','mean_duration','pk_count','byte_count','upload_bytes','download_bytes','upload_pk','download_pk']\n",
    "\n",
    "\n",
    "\n",
    "\n",
    "red_time_series_df"
   ]
  },
  {
   "cell_type": "code",
   "execution_count": null,
   "metadata": {},
   "outputs": [],
   "source": [
    "red_time_series_df.to_csv('red_time_series_df.csv')"
   ]
  },
  {
   "cell_type": "code",
   "execution_count": null,
   "metadata": {},
   "outputs": [],
   "source": [
    "\n",
    "red_time_series_df['time'] = red_time_series_df['time'].astype('int64')\n",
    "red_time_series_df = red_time_series_df.sort_values('time')"
   ]
  },
  {
   "cell_type": "code",
   "execution_count": null,
   "metadata": {},
   "outputs": [],
   "source": [
    "plt.plot(red_time_series_df['time'],red_time_series_df['upload_bytes'],label = 'Upload')\n",
    "plt.plot(red_time_series_df['time'],red_time_series_df['download_bytes'],label = 'Download')\n",
    "plt.legend()"
   ]
  },
  {
   "cell_type": "code",
   "execution_count": null,
   "metadata": {},
   "outputs": [],
   "source": [
    "plt.plot(flow_time_series_df['time'],flow_time_series_df['download_bytes']/flow_time_series_df['upload_bytes'])"
   ]
  },
  {
   "cell_type": "code",
   "execution_count": null,
   "metadata": {},
   "outputs": [],
   "source": []
  }
 ],
 "metadata": {
  "kernelspec": {
   "display_name": "Python 2",
   "language": "python",
   "name": "python2"
  },
  "language_info": {
   "codemirror_mode": {
    "name": "ipython",
    "version": 2
   },
   "file_extension": ".py",
   "mimetype": "text/x-python",
   "name": "python",
   "nbconvert_exporter": "python",
   "pygments_lexer": "ipython2",
   "version": "2.7.16"
  }
 },
 "nbformat": 4,
 "nbformat_minor": 2
}

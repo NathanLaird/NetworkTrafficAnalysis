{
 "cells": [
  {
   "cell_type": "code",
   "execution_count": 170,
   "metadata": {},
   "outputs": [],
   "source": [
    "import pandas as pd\n",
    "import matplotlib.pyplot as plt\n",
    "import numpy as np\n",
    "import random\n",
    "\n",
    "\n",
    "\n",
    "%matplotlib inline"
   ]
  },
  {
   "cell_type": "code",
   "execution_count": 171,
   "metadata": {},
   "outputs": [],
   "source": [
    "full_df = pd.read_csv('Data/flow_time_series.csv')\n",
    "red_df = pd.read_csv('Data/red_time_series.csv')"
   ]
  },
  {
   "cell_type": "code",
   "execution_count": 172,
   "metadata": {},
   "outputs": [],
   "source": [
    "full_df = full_df.sort_values('time')\n",
    "red_df = red_df.sort_values('time')"
   ]
  },
  {
   "cell_type": "code",
   "execution_count": 173,
   "metadata": {},
   "outputs": [],
   "source": [
    "full_df['time'] = full_df['time'].astype('int64')\n",
    "red_df['time'] = red_df['time'].astype('int64')"
   ]
  },
  {
   "cell_type": "code",
   "execution_count": null,
   "metadata": {},
   "outputs": [],
   "source": [
    "\n",
    "\n"
   ]
  },
  {
   "cell_type": "code",
   "execution_count": 174,
   "metadata": {},
   "outputs": [],
   "source": [
    "full_df = full_df[full_df['time']< 1900801 ]"
   ]
  },
  {
   "cell_type": "code",
   "execution_count": 175,
   "metadata": {},
   "outputs": [
    {
     "data": {
      "text/html": [
       "<div>\n",
       "<style scoped>\n",
       "    .dataframe tbody tr th:only-of-type {\n",
       "        vertical-align: middle;\n",
       "    }\n",
       "\n",
       "    .dataframe tbody tr th {\n",
       "        vertical-align: top;\n",
       "    }\n",
       "\n",
       "    .dataframe thead th {\n",
       "        text-align: right;\n",
       "    }\n",
       "</style>\n",
       "<table border=\"1\" class=\"dataframe\">\n",
       "  <thead>\n",
       "    <tr style=\"text-align: right;\">\n",
       "      <th></th>\n",
       "      <th>Unnamed: 0</th>\n",
       "      <th>Unnamed: 0.1</th>\n",
       "      <th>time</th>\n",
       "      <th>user</th>\n",
       "      <th>Upload</th>\n",
       "      <th>Download</th>\n",
       "      <th>mean_duration</th>\n",
       "    </tr>\n",
       "  </thead>\n",
       "  <tbody>\n",
       "    <tr>\n",
       "      <th>0</th>\n",
       "      <td>17398</td>\n",
       "      <td>17490</td>\n",
       "      <td>0</td>\n",
       "      <td>C13557</td>\n",
       "      <td>1522269.0</td>\n",
       "      <td>716338</td>\n",
       "      <td>6.844262</td>\n",
       "    </tr>\n",
       "    <tr>\n",
       "      <th>1002</th>\n",
       "      <td>14358</td>\n",
       "      <td>14437</td>\n",
       "      <td>0</td>\n",
       "      <td>C12630</td>\n",
       "      <td>26467756.0</td>\n",
       "      <td>6568934</td>\n",
       "      <td>7.564246</td>\n",
       "    </tr>\n",
       "    <tr>\n",
       "      <th>1001</th>\n",
       "      <td>14467</td>\n",
       "      <td>14546</td>\n",
       "      <td>0</td>\n",
       "      <td>C11468</td>\n",
       "      <td>35320320.0</td>\n",
       "      <td>11342816</td>\n",
       "      <td>5.689418</td>\n",
       "    </tr>\n",
       "    <tr>\n",
       "      <th>1000</th>\n",
       "      <td>14466</td>\n",
       "      <td>14545</td>\n",
       "      <td>0</td>\n",
       "      <td>C8752</td>\n",
       "      <td>24947020.0</td>\n",
       "      <td>21350094</td>\n",
       "      <td>29.146887</td>\n",
       "    </tr>\n",
       "    <tr>\n",
       "      <th>999</th>\n",
       "      <td>14465</td>\n",
       "      <td>14544</td>\n",
       "      <td>0</td>\n",
       "      <td>C720</td>\n",
       "      <td>2682239.0</td>\n",
       "      <td>1844391</td>\n",
       "      <td>24.475285</td>\n",
       "    </tr>\n",
       "  </tbody>\n",
       "</table>\n",
       "</div>"
      ],
      "text/plain": [
       "      Unnamed: 0  Unnamed: 0.1  time    user      Upload  Download  \\\n",
       "0          17398         17490     0  C13557   1522269.0    716338   \n",
       "1002       14358         14437     0  C12630  26467756.0   6568934   \n",
       "1001       14467         14546     0  C11468  35320320.0  11342816   \n",
       "1000       14466         14545     0   C8752  24947020.0  21350094   \n",
       "999        14465         14544     0    C720   2682239.0   1844391   \n",
       "\n",
       "      mean_duration  \n",
       "0          6.844262  \n",
       "1002       7.564246  \n",
       "1001       5.689418  \n",
       "1000      29.146887  \n",
       "999       24.475285  "
      ]
     },
     "execution_count": 175,
     "metadata": {},
     "output_type": "execute_result"
    }
   ],
   "source": [
    "full_df.head(5)"
   ]
  },
  {
   "cell_type": "markdown",
   "metadata": {},
   "source": [
    "# examine Difference in when these users appear"
   ]
  },
  {
   "cell_type": "code",
   "execution_count": 176,
   "metadata": {},
   "outputs": [
    {
     "name": "stderr",
     "output_type": "stream",
     "text": [
      "//anaconda3/lib/python3.7/site-packages/ipykernel_launcher.py:1: MatplotlibDeprecationWarning: \n",
      "The 'normed' kwarg was deprecated in Matplotlib 2.1 and will be removed in 3.1. Use 'density' instead.\n",
      "  \"\"\"Entry point for launching an IPython kernel.\n",
      "//anaconda3/lib/python3.7/site-packages/ipykernel_launcher.py:2: MatplotlibDeprecationWarning: \n",
      "The 'normed' kwarg was deprecated in Matplotlib 2.1 and will be removed in 3.1. Use 'density' instead.\n",
      "  \n"
     ]
    },
    {
     "data": {
      "text/plain": [
       "(array([1.72351134e-06, 6.91823498e-07, 4.94073250e-07, 4.95887472e-07,\n",
       "        8.07933735e-07, 7.99467364e-07, 7.34760096e-07, 7.34760096e-07,\n",
       "        6.02926597e-07, 4.06990572e-07, 1.13328430e-06, 7.16617871e-07,\n",
       "        7.57135506e-07, 5.74503779e-08, 5.44266738e-08, 4.65650431e-08,\n",
       "        4.53555615e-08, 5.44266738e-08, 5.56361554e-08, 1.08853348e-07]),\n",
       " array([      0.,   95040.,  190080.,  285120.,  380160.,  475200.,\n",
       "         570240.,  665280.,  760320.,  855360.,  950400., 1045440.,\n",
       "        1140480., 1235520., 1330560., 1425600., 1520640., 1615680.,\n",
       "        1710720., 1805760., 1900800.]),\n",
       " <a list of 20 Patch objects>)"
      ]
     },
     "execution_count": 176,
     "metadata": {},
     "output_type": "execute_result"
    },
    {
     "data": {
      "image/png": "[encoded data removed]",
      "text/plain": [
       "<Figure size 432x288 with 1 Axes>"
      ]
     },
     "metadata": {
      "needs_background": "light"
     },
     "output_type": "display_data"
    }
   ],
   "source": [
    "plt.hist(red_df['time'],normed=True,color='r',alpha=.5,bins=20)\n",
    "plt.hist(full_df['time'],normed=True,color='b',alpha=.5,bins=20)"
   ]
  },
  {
   "cell_type": "markdown",
   "metadata": {},
   "source": [
    "# Examine Differences in thier average byte movents"
   ]
  },
  {
   "cell_type": "code",
   "execution_count": 177,
   "metadata": {},
   "outputs": [
    {
     "name": "stderr",
     "output_type": "stream",
     "text": [
      "//anaconda3/lib/python3.7/site-packages/ipykernel_launcher.py:1: MatplotlibDeprecationWarning: \n",
      "The 'normed' kwarg was deprecated in Matplotlib 2.1 and will be removed in 3.1. Use 'density' instead.\n",
      "  \"\"\"Entry point for launching an IPython kernel.\n",
      "//anaconda3/lib/python3.7/site-packages/ipykernel_launcher.py:2: MatplotlibDeprecationWarning: \n",
      "The 'normed' kwarg was deprecated in Matplotlib 2.1 and will be removed in 3.1. Use 'density' instead.\n",
      "  \n"
     ]
    },
    {
     "data": {
      "text/plain": [
       "(array([0.00088365, 0.00100146, 0.00524296, 0.02067731, 0.03575819,\n",
       "        0.06185519, 0.07628807, 0.17101487, 0.16100022, 0.11834959,\n",
       "        0.11304772, 0.17248761, 0.05472711, 0.01531652, 0.00701025,\n",
       "        0.00471278, 0.00147274, 0.00300439, 0.00041237, 0.00070692]),\n",
       " array([ 6.23636959,  7.21200797,  8.18764634,  9.16328472, 10.13892309,\n",
       "        11.11456147, 12.09019985, 13.06583822, 14.0414766 , 15.01711497,\n",
       "        15.99275335, 16.96839172, 17.9440301 , 18.91966848, 19.89530685,\n",
       "        20.87094523, 21.8465836 , 22.82222198, 23.79786036, 24.77349873,\n",
       "        25.74913711]),\n",
       " <a list of 20 Patch objects>)"
      ]
     },
     "execution_count": 177,
     "metadata": {},
     "output_type": "execute_result"
    },
    {
     "data": {
      "image/png": "[encoded data removed]",
      "text/plain": [
       "<Figure size 432x288 with 1 Axes>"
      ]
     },
     "metadata": {
      "needs_background": "light"
     },
     "output_type": "display_data"
    }
   ],
   "source": [
    "plt.hist(np.log(red_df['Upload']),normed=True,color='r',alpha=.5,bins=20)\n",
    "plt.hist(np.log(full_df['Upload']),normed=True,color='b',alpha=.5,bins=20)"
   ]
  },
  {
   "cell_type": "markdown",
   "metadata": {},
   "source": [
    "# bootstrap estimates"
   ]
  },
  {
   "cell_type": "code",
   "execution_count": 178,
   "metadata": {},
   "outputs": [],
   "source": [
    "red_df['Log_Upload'] = np.log2(red_df['Upload'])\n",
    "red_df['Log_Download'] = np.log2(red_df['Download'])"
   ]
  },
  {
   "cell_type": "code",
   "execution_count": 179,
   "metadata": {},
   "outputs": [],
   "source": [
    "full_df['Log_Upload'] = np.log2(full_df['Upload'])\n",
    "full_df['Log_Download'] = np.log2(full_df['Download'])"
   ]
  },
  {
   "cell_type": "code",
   "execution_count": 180,
   "metadata": {},
   "outputs": [],
   "source": [
    "full_df['sqrt_Upload'] = np.sqrt(full_df['Upload'])\n",
    "full_df['sqrt_Download'] = np.sqrt(full_df['Download'])"
   ]
  },
  {
   "cell_type": "code",
   "execution_count": 181,
   "metadata": {},
   "outputs": [],
   "source": [
    "red_df['sqrt_Upload'] = np.sqrt(red_df['Upload'])\n",
    "red_df['sqrt_Download'] = np.sqrt(red_df['Download'])"
   ]
  },
  {
   "cell_type": "code",
   "execution_count": 182,
   "metadata": {},
   "outputs": [],
   "source": [
    "red_bs = []\n",
    "full_bs = []"
   ]
  },
  {
   "cell_type": "code",
   "execution_count": 183,
   "metadata": {},
   "outputs": [],
   "source": [
    "red_bs = []\n",
    "full_bs = []\n",
    "\n",
    "for i in range(1000):\n",
    "    red_bs.append(np.mean(random.sample(list(red_df['Upload']),100)))\n",
    "    full_bs.append(np.mean(random.sample(list(full_df['Upload']),100)))"
   ]
  },
  {
   "cell_type": "code",
   "execution_count": 184,
   "metadata": {
    "scrolled": true
   },
   "outputs": [
    {
     "name": "stderr",
     "output_type": "stream",
     "text": [
      "//anaconda3/lib/python3.7/site-packages/ipykernel_launcher.py:1: MatplotlibDeprecationWarning: \n",
      "The 'normed' kwarg was deprecated in Matplotlib 2.1 and will be removed in 3.1. Use 'density' instead.\n",
      "  \"\"\"Entry point for launching an IPython kernel.\n",
      "//anaconda3/lib/python3.7/site-packages/ipykernel_launcher.py:2: MatplotlibDeprecationWarning: \n",
      "The 'normed' kwarg was deprecated in Matplotlib 2.1 and will be removed in 3.1. Use 'density' instead.\n",
      "  \n"
     ]
    },
    {
     "data": {
      "text/plain": [
       "(0, 1)"
      ]
     },
     "execution_count": 184,
     "metadata": {},
     "output_type": "execute_result"
    },
    {
     "data": {
      "image/png": "[encoded data removed]",
      "text/plain": [
       "<Figure size 432x288 with 1 Axes>"
      ]
     },
     "metadata": {
      "needs_background": "light"
     },
     "output_type": "display_data"
    }
   ],
   "source": [
    "plt.hist(red_bs,normed=True,color='r',alpha=.5,bins=20)\n",
    "plt.hist(full_bs,normed=True,color='b',alpha=.5,bins=20)\n",
    "plt.ylim(0,1)"
   ]
  },
  {
   "cell_type": "code",
   "execution_count": 185,
   "metadata": {
    "scrolled": true
   },
   "outputs": [
    {
     "name": "stderr",
     "output_type": "stream",
     "text": [
      "//anaconda3/lib/python3.7/site-packages/ipykernel_launcher.py:1: MatplotlibDeprecationWarning: \n",
      "The 'normed' kwarg was deprecated in Matplotlib 2.1 and will be removed in 3.1. Use 'density' instead.\n",
      "  \"\"\"Entry point for launching an IPython kernel.\n",
      "//anaconda3/lib/python3.7/site-packages/ipykernel_launcher.py:2: MatplotlibDeprecationWarning: \n",
      "The 'normed' kwarg was deprecated in Matplotlib 2.1 and will be removed in 3.1. Use 'density' instead.\n",
      "  \n"
     ]
    },
    {
     "data": {
      "text/plain": [
       "(array([0.0006125 , 0.00069416, 0.00363415, 0.01433242, 0.02478569,\n",
       "        0.04287475, 0.05287886, 0.11853847, 0.11159685, 0.08203369,\n",
       "        0.07835871, 0.1195593 , 0.03793395, 0.0106166 , 0.00485914,\n",
       "        0.00326665, 0.00102083, 0.00208249, 0.00028583, 0.00049   ]),\n",
       " array([ 8.99717948, 10.40472813, 11.81227677, 13.21982542, 14.62737407,\n",
       "        16.03492271, 17.44247136, 18.85002001, 20.25756865, 21.6651173 ,\n",
       "        23.07266595, 24.48021459, 25.88776324, 27.29531189, 28.70286053,\n",
       "        30.11040918, 31.51795783, 32.92550647, 34.33305512, 35.74060377,\n",
       "        37.14815241]),\n",
       " <a list of 20 Patch objects>)"
      ]
     },
     "execution_count": 185,
     "metadata": {},
     "output_type": "execute_result"
    },
    {
     "data": {
      "image/png": "[encoded data removed]",
      "text/plain": [
       "<Figure size 432x288 with 1 Axes>"
      ]
     },
     "metadata": {
      "needs_background": "light"
     },
     "output_type": "display_data"
    }
   ],
   "source": [
    "plt.hist(red_df['Log_Upload'],normed=True,color='r',alpha=.5,bins=20)\n",
    "plt.hist(full_df['Log_Upload'],normed=True,color='b',alpha=.5,bins=20)"
   ]
  },
  {
   "cell_type": "code",
   "execution_count": null,
   "metadata": {},
   "outputs": [],
   "source": []
  },
  {
   "cell_type": "code",
   "execution_count": 200,
   "metadata": {},
   "outputs": [
    {
     "name": "stderr",
     "output_type": "stream",
     "text": [
      "//anaconda3/lib/python3.7/site-packages/ipykernel_launcher.py:8: MatplotlibDeprecationWarning: \n",
      "The 'normed' kwarg was deprecated in Matplotlib 2.1 and will be removed in 3.1. Use 'density' instead.\n",
      "  \n",
      "//anaconda3/lib/python3.7/site-packages/ipykernel_launcher.py:9: MatplotlibDeprecationWarning: \n",
      "The 'normed' kwarg was deprecated in Matplotlib 2.1 and will be removed in 3.1. Use 'density' instead.\n",
      "  if __name__ == '__main__':\n"
     ]
    },
    {
     "data": {
      "text/plain": [
       "(array([0.01434862, 0.0114789 , 0.04017614, 0.06887338, 0.08035228,\n",
       "        0.12052842, 0.18653208, 0.25827519, 0.33575774, 0.37880361,\n",
       "        0.26975408, 0.32140912, 0.31279995, 0.2123596 , 0.0947009 ,\n",
       "        0.08609173, 0.03730642, 0.02582752, 0.00573945, 0.00860917]),\n",
       " array([18.21010256, 18.55856809, 18.90703362, 19.25549915, 19.60396468,\n",
       "        19.95243021, 20.30089574, 20.64936127, 20.9978268 , 21.34629233,\n",
       "        21.69475786, 22.04322339, 22.39168891, 22.74015444, 23.08861997,\n",
       "        23.4370855 , 23.78555103, 24.13401656, 24.48248209, 24.83094762,\n",
       "        25.17941315]),\n",
       " <a list of 20 Patch objects>)"
      ]
     },
     "execution_count": 200,
     "metadata": {},
     "output_type": "execute_result"
    },
    {
     "data": {
      "image/png": "[encoded data removed]",
      "text/plain": [
       "<Figure size 432x288 with 1 Axes>"
      ]
     },
     "metadata": {
      "needs_background": "light"
     },
     "output_type": "display_data"
    }
   ],
   "source": [
    "red_bs = []\n",
    "full_bs = []\n",
    "\n",
    "for i in range(1000):\n",
    "    red_bs.append(np.mean(random.sample(list(red_df['Log_Upload']),10)))\n",
    "    full_bs.append(np.mean(random.sample(list(full_df['Log_Upload']),10)))\n",
    "    \n",
    "plt.hist(red_bs,normed=True,color='r',alpha=.5,bins=20)\n",
    "plt.hist(full_bs,normed=True,color='b',alpha=.5,bins=20)"
   ]
  },
  {
   "cell_type": "code",
   "execution_count": 187,
   "metadata": {},
   "outputs": [
    {
     "name": "stderr",
     "output_type": "stream",
     "text": [
      "//anaconda3/lib/python3.7/site-packages/ipykernel_launcher.py:1: MatplotlibDeprecationWarning: \n",
      "The 'normed' kwarg was deprecated in Matplotlib 2.1 and will be removed in 3.1. Use 'density' instead.\n",
      "  \"\"\"Entry point for launching an IPython kernel.\n",
      "//anaconda3/lib/python3.7/site-packages/ipykernel_launcher.py:2: MatplotlibDeprecationWarning: \n",
      "The 'normed' kwarg was deprecated in Matplotlib 2.1 and will be removed in 3.1. Use 'density' instead.\n",
      "  \n"
     ]
    },
    {
     "data": {
      "text/plain": [
       "(0, 1000000)"
      ]
     },
     "execution_count": 187,
     "metadata": {},
     "output_type": "execute_result"
    },
    {
     "data": {
      "image/png": "[encoded data removed]",
      "text/plain": [
       "<Figure size 432x288 with 1 Axes>"
      ]
     },
     "metadata": {
      "needs_background": "light"
     },
     "output_type": "display_data"
    }
   ],
   "source": [
    "plt.hist(red_df['Upload'],normed=True,color='r',alpha=.5,bins=5)\n",
    "plt.hist(full_df['Upload'],normed=True,color='b',alpha=.5,bins=5)\n",
    "plt.ylim(0,.00007)\n",
    "plt.xlim(0,1000000)\n"
   ]
  },
  {
   "cell_type": "code",
   "execution_count": 188,
   "metadata": {},
   "outputs": [
    {
     "name": "stderr",
     "output_type": "stream",
     "text": [
      "//anaconda3/lib/python3.7/site-packages/ipykernel_launcher.py:1: MatplotlibDeprecationWarning: \n",
      "The 'normed' kwarg was deprecated in Matplotlib 2.1 and will be removed in 3.1. Use 'density' instead.\n",
      "  \"\"\"Entry point for launching an IPython kernel.\n",
      "//anaconda3/lib/python3.7/site-packages/ipykernel_launcher.py:2: MatplotlibDeprecationWarning: \n",
      "The 'normed' kwarg was deprecated in Matplotlib 2.1 and will be removed in 3.1. Use 'density' instead.\n",
      "  \n"
     ]
    },
    {
     "data": {
      "text/plain": [
       "(0, 50000)"
      ]
     },
     "execution_count": 188,
     "metadata": {},
     "output_type": "execute_result"
    },
    {
     "data": {
      "image/png": "[encoded data removed]",
      "text/plain": [
       "<Figure size 432x288 with 1 Axes>"
      ]
     },
     "metadata": {
      "needs_background": "light"
     },
     "output_type": "display_data"
    }
   ],
   "source": [
    "plt.hist(red_df['sqrt_Download'],normed=True,color='r',alpha=.5,bins=50)\n",
    "plt.hist(full_df['sqrt_Download'],normed=True,color='b',alpha=.5,bins=500)\n",
    "plt.xlim(0,50000)"
   ]
  },
  {
   "cell_type": "code",
   "execution_count": null,
   "metadata": {},
   "outputs": [],
   "source": []
  },
  {
   "cell_type": "code",
   "execution_count": 189,
   "metadata": {},
   "outputs": [
    {
     "name": "stderr",
     "output_type": "stream",
     "text": [
      "//anaconda3/lib/python3.7/site-packages/ipykernel_launcher.py:1: MatplotlibDeprecationWarning: \n",
      "The 'normed' kwarg was deprecated in Matplotlib 2.1 and will be removed in 3.1. Use 'density' instead.\n",
      "  \"\"\"Entry point for launching an IPython kernel.\n",
      "//anaconda3/lib/python3.7/site-packages/ipykernel_launcher.py:2: MatplotlibDeprecationWarning: \n",
      "The 'normed' kwarg was deprecated in Matplotlib 2.1 and will be removed in 3.1. Use 'density' instead.\n",
      "  \n"
     ]
    },
    {
     "data": {
      "text/plain": [
       "(array([0.20430586, 0.05866208, 0.042884  , 0.04895249, 0.05016619,\n",
       "        0.05502098, 0.05097532, 0.06634883, 0.05259359, 0.06108947,\n",
       "        0.05097532, 0.04692966, 0.05583012, 0.04612053, 0.05987578,\n",
       "        0.06028034, 0.05259359, 0.07929495, 0.0679671 , 0.08091321,\n",
       "        0.08091321, 0.10437804, 0.0906228 , 0.08738627, 0.10923283,\n",
       "        0.07848581, 0.07241732, 0.06958536, 0.12541548, 0.09830955,\n",
       "        0.10923283, 0.10680544, 0.09183649, 0.10154608, 0.10114151,\n",
       "        0.13027027, 0.10033238, 0.10154608, 0.0881954 , 0.07484472,\n",
       "        0.07646298, 0.07241732, 0.07363102, 0.08253148, 0.06837166,\n",
       "        0.07889038, 0.0869817 , 0.08253148, 0.08859997, 0.08657714,\n",
       "        0.08010408, 0.07160819, 0.05947121, 0.05340272, 0.05583012,\n",
       "        0.0465251 , 0.05421185, 0.03843378, 0.03236528, 0.03317442,\n",
       "        0.03115159, 0.03317442, 0.02912876, 0.02710593, 0.02629679,\n",
       "        0.02791506, 0.02589223, 0.02063287, 0.021442  , 0.0202283 ,\n",
       "        0.01739634, 0.01577808, 0.01658721, 0.01577808, 0.01496894,\n",
       "        0.01861004, 0.01699177, 0.01213698, 0.01456438, 0.01577808,\n",
       "        0.01294611, 0.01051872, 0.01213698, 0.01335068, 0.021442  ,\n",
       "        0.01132785, 0.01051872, 0.00970959, 0.01051872, 0.01537351,\n",
       "        0.01537351, 0.01415981, 0.01051872, 0.01739634, 0.01415981,\n",
       "        0.01537351, 0.01618264, 0.01699177, 0.01415981, 0.01496894,\n",
       "        0.01415981, 0.01496894, 0.01577808, 0.01335068, 0.01051872,\n",
       "        0.01254155, 0.01132785, 0.01011415, 0.00970959, 0.00768676,\n",
       "        0.00849589, 0.01213698, 0.00849589, 0.00768676, 0.00930502,\n",
       "        0.01173242, 0.00647306, 0.00970959, 0.01173242, 0.01092328,\n",
       "        0.00525936, 0.00768676, 0.00768676, 0.00809132, 0.01051872,\n",
       "        0.01092328, 0.01011415, 0.01173242, 0.01496894, 0.00809132,\n",
       "        0.01051872, 0.01254155, 0.01577808, 0.01618264, 0.01699177,\n",
       "        0.01456438, 0.01941917, 0.01537351, 0.01254155, 0.01780091,\n",
       "        0.01092328, 0.00849589, 0.01739634, 0.01415981, 0.00728219,\n",
       "        0.01173242, 0.01132785, 0.00809132, 0.00809132, 0.01132785,\n",
       "        0.00525936, 0.00890045, 0.00809132, 0.00849589, 0.00768676,\n",
       "        0.00930502, 0.00364109, 0.00728219, 0.00525936, 0.00323653,\n",
       "        0.00647306, 0.00606849, 0.00647306, 0.00364109, 0.00647306,\n",
       "        0.00566392, 0.00525936, 0.00283196, 0.00728219, 0.00687762,\n",
       "        0.00445023, 0.00404566, 0.00364109, 0.00202283, 0.00566392,\n",
       "        0.00687762, 0.00364109, 0.00364109, 0.00404566, 0.00809132,\n",
       "        0.00485479, 0.00525936, 0.00364109, 0.00283196, 0.00404566,\n",
       "        0.00768676, 0.00445023, 0.00768676, 0.00445023, 0.00283196,\n",
       "        0.00283196, 0.00606849, 0.00283196, 0.00525936, 0.00768676,\n",
       "        0.00323653, 0.00566392, 0.00525936, 0.00404566, 0.00728219,\n",
       "        0.00566392, 0.00768676, 0.00485479, 0.00485479, 0.00647306,\n",
       "        0.00525936, 0.00849589, 0.00606849, 0.00768676, 0.00566392,\n",
       "        0.00202283, 0.00687762, 0.00525936, 0.00647306, 0.00606849,\n",
       "        0.00606849, 0.00687762, 0.00890045, 0.00647306, 0.00809132,\n",
       "        0.00768676, 0.00566392, 0.00485479, 0.00485479, 0.00647306,\n",
       "        0.00404566, 0.00323653, 0.00809132, 0.00809132, 0.00202283,\n",
       "        0.00566392, 0.00445023, 0.00485479, 0.00768676, 0.00647306,\n",
       "        0.00566392, 0.00606849, 0.00930502, 0.00890045, 0.00809132,\n",
       "        0.00849589, 0.01820547, 0.01254155, 0.00768676, 0.00485479,\n",
       "        0.00606849, 0.00890045, 0.00404566, 0.00566392, 0.00485479,\n",
       "        0.00485479, 0.0024274 , 0.00202283, 0.00809132, 0.00606849,\n",
       "        0.00728219, 0.00485479, 0.00849589, 0.00687762, 0.00687762,\n",
       "        0.00525936, 0.00485479, 0.00404566, 0.00525936, 0.00445023,\n",
       "        0.00404566, 0.00566392, 0.00566392, 0.00525936, 0.00161826,\n",
       "        0.00485479, 0.00202283, 0.00283196, 0.00606849, 0.00445023,\n",
       "        0.00445023, 0.0024274 , 0.00202283, 0.00364109, 0.00364109,\n",
       "        0.0024274 , 0.0024274 , 0.00566392, 0.00445023, 0.00566392,\n",
       "        0.00525936, 0.00445023, 0.00364109, 0.00404566, 0.00566392,\n",
       "        0.00485479, 0.00283196, 0.00445023, 0.00323653, 0.0024274 ,\n",
       "        0.00525936, 0.00404566, 0.00485479, 0.00323653, 0.00404566,\n",
       "        0.00445023, 0.00364109, 0.0024274 , 0.00202283, 0.00404566,\n",
       "        0.00445023, 0.00485479, 0.00606849, 0.00404566, 0.00566392,\n",
       "        0.00364109, 0.00323653, 0.00283196, 0.00323653, 0.00404566,\n",
       "        0.0024274 , 0.00525936, 0.00404566, 0.00485479, 0.00323653,\n",
       "        0.00323653, 0.00404566, 0.00404566, 0.00525936, 0.00404566,\n",
       "        0.00364109, 0.00283196, 0.00283196, 0.00161826, 0.0012137 ,\n",
       "        0.00404566, 0.00485479, 0.00525936, 0.00404566, 0.0012137 ,\n",
       "        0.00161826, 0.00647306, 0.00323653, 0.00485479, 0.00364109,\n",
       "        0.00080913, 0.00404566, 0.0024274 , 0.00485479, 0.00364109,\n",
       "        0.00485479, 0.00445023, 0.00202283, 0.00323653, 0.00202283,\n",
       "        0.0024274 , 0.00283196, 0.00525936, 0.0024274 , 0.0012137 ,\n",
       "        0.00202283, 0.00202283, 0.00404566, 0.00566392, 0.00323653,\n",
       "        0.00364109, 0.00445023, 0.00323653, 0.00283196, 0.0024274 ,\n",
       "        0.00323653, 0.00202283, 0.0024274 , 0.00283196, 0.00161826,\n",
       "        0.00202283, 0.0012137 , 0.00080913, 0.0012137 , 0.00080913,\n",
       "        0.00202283, 0.00202283, 0.0012137 , 0.0012137 , 0.        ,\n",
       "        0.00080913, 0.00080913, 0.00202283, 0.        , 0.0012137 ,\n",
       "        0.00040457, 0.00040457, 0.0012137 , 0.00080913, 0.00080913,\n",
       "        0.0024274 , 0.00202283, 0.00080913, 0.00161826, 0.0012137 ,\n",
       "        0.0024274 , 0.        , 0.00040457, 0.00080913, 0.0012137 ,\n",
       "        0.00040457, 0.00080913, 0.00161826, 0.00202283, 0.00161826,\n",
       "        0.00161826, 0.0012137 , 0.0012137 , 0.0012137 , 0.00161826,\n",
       "        0.0024274 , 0.00161826, 0.00040457, 0.00040457, 0.0012137 ,\n",
       "        0.00323653, 0.00080913, 0.0024274 , 0.00364109, 0.00323653,\n",
       "        0.00161826, 0.00283196, 0.00040457, 0.00202283, 0.00080913,\n",
       "        0.00283196, 0.00080913, 0.00040457, 0.00080913, 0.00040457,\n",
       "        0.0012137 , 0.0012137 , 0.00202283, 0.0012137 , 0.0012137 ,\n",
       "        0.        , 0.0012137 , 0.0012137 , 0.00364109, 0.0012137 ,\n",
       "        0.00161826, 0.0024274 , 0.00040457, 0.00040457, 0.0012137 ,\n",
       "        0.00040457, 0.00161826, 0.00080913, 0.00080913, 0.0012137 ,\n",
       "        0.00161826, 0.00161826, 0.00202283, 0.0012137 , 0.00161826,\n",
       "        0.        , 0.0012137 , 0.00080913, 0.00161826, 0.00202283,\n",
       "        0.00202283, 0.00364109, 0.0012137 , 0.00202283, 0.00080913,\n",
       "        0.00040457, 0.00080913, 0.00161826, 0.00161826, 0.0012137 ,\n",
       "        0.00080913, 0.0012137 , 0.00080913, 0.00080913, 0.0012137 ,\n",
       "        0.        , 0.00080913, 0.00161826, 0.0024274 , 0.00080913,\n",
       "        0.0012137 , 0.00040457, 0.00364109, 0.0012137 , 0.00040457,\n",
       "        0.00161826, 0.00161826, 0.00040457, 0.00040457, 0.00202283,\n",
       "        0.00040457, 0.0012137 , 0.00080913, 0.00080913, 0.00040457,\n",
       "        0.00080913, 0.00040457, 0.00080913, 0.00080913, 0.00404566]),\n",
       " array([ 0.        ,  0.14206473,  0.28412946,  0.42619419,  0.56825892,\n",
       "         0.71032365,  0.85238838,  0.99445311,  1.13651784,  1.27858257,\n",
       "         1.4206473 ,  1.56271203,  1.70477676,  1.84684149,  1.98890622,\n",
       "         2.13097095,  2.27303568,  2.41510041,  2.55716515,  2.69922988,\n",
       "         2.84129461,  2.98335934,  3.12542407,  3.2674888 ,  3.40955353,\n",
       "         3.55161826,  3.69368299,  3.83574772,  3.97781245,  4.11987718,\n",
       "         4.26194191,  4.40400664,  4.54607137,  4.6881361 ,  4.83020083,\n",
       "         4.97226556,  5.11433029,  5.25639502,  5.39845975,  5.54052448,\n",
       "         5.68258921,  5.82465394,  5.96671867,  6.1087834 ,  6.25084813,\n",
       "         6.39291286,  6.53497759,  6.67704232,  6.81910705,  6.96117178,\n",
       "         7.10323651,  7.24530124,  7.38736598,  7.52943071,  7.67149544,\n",
       "         7.81356017,  7.9556249 ,  8.09768963,  8.23975436,  8.38181909,\n",
       "         8.52388382,  8.66594855,  8.80801328,  8.95007801,  9.09214274,\n",
       "         9.23420747,  9.3762722 ,  9.51833693,  9.66040166,  9.80246639,\n",
       "         9.94453112, 10.08659585, 10.22866058, 10.37072531, 10.51279004,\n",
       "        10.65485477, 10.7969195 , 10.93898423, 11.08104896, 11.22311369,\n",
       "        11.36517842, 11.50724315, 11.64930788, 11.79137261, 11.93343734,\n",
       "        12.07550207, 12.2175668 , 12.35963154, 12.50169627, 12.643761  ,\n",
       "        12.78582573, 12.92789046, 13.06995519, 13.21201992, 13.35408465,\n",
       "        13.49614938, 13.63821411, 13.78027884, 13.92234357, 14.0644083 ,\n",
       "        14.20647303, 14.34853776, 14.49060249, 14.63266722, 14.77473195,\n",
       "        14.91679668, 15.05886141, 15.20092614, 15.34299087, 15.4850556 ,\n",
       "        15.62712033, 15.76918506, 15.91124979, 16.05331452, 16.19537925,\n",
       "        16.33744398, 16.47950871, 16.62157344, 16.76363817, 16.9057029 ,\n",
       "        17.04776763, 17.18983237, 17.3318971 , 17.47396183, 17.61602656,\n",
       "        17.75809129, 17.90015602, 18.04222075, 18.18428548, 18.32635021,\n",
       "        18.46841494, 18.61047967, 18.7525444 , 18.89460913, 19.03667386,\n",
       "        19.17873859, 19.32080332, 19.46286805, 19.60493278, 19.74699751,\n",
       "        19.88906224, 20.03112697, 20.1731917 , 20.31525643, 20.45732116,\n",
       "        20.59938589, 20.74145062, 20.88351535, 21.02558008, 21.16764481,\n",
       "        21.30970954, 21.45177427, 21.593839  , 21.73590373, 21.87796846,\n",
       "        22.0200332 , 22.16209793, 22.30416266, 22.44622739, 22.58829212,\n",
       "        22.73035685, 22.87242158, 23.01448631, 23.15655104, 23.29861577,\n",
       "        23.4406805 , 23.58274523, 23.72480996, 23.86687469, 24.00893942,\n",
       "        24.15100415, 24.29306888, 24.43513361, 24.57719834, 24.71926307,\n",
       "        24.8613278 , 25.00339253, 25.14545726, 25.28752199, 25.42958672,\n",
       "        25.57165145, 25.71371618, 25.85578091, 25.99784564, 26.13991037,\n",
       "        26.2819751 , 26.42403983, 26.56610456, 26.70816929, 26.85023402,\n",
       "        26.99229876, 27.13436349, 27.27642822, 27.41849295, 27.56055768,\n",
       "        27.70262241, 27.84468714, 27.98675187, 28.1288166 , 28.27088133,\n",
       "        28.41294606, 28.55501079, 28.69707552, 28.83914025, 28.98120498,\n",
       "        29.12326971, 29.26533444, 29.40739917, 29.5494639 , 29.69152863,\n",
       "        29.83359336, 29.97565809, 30.11772282, 30.25978755, 30.40185228,\n",
       "        30.54391701, 30.68598174, 30.82804647, 30.9701112 , 31.11217593,\n",
       "        31.25424066, 31.39630539, 31.53837012, 31.68043485, 31.82249959,\n",
       "        31.96456432, 32.10662905, 32.24869378, 32.39075851, 32.53282324,\n",
       "        32.67488797, 32.8169527 , 32.95901743, 33.10108216, 33.24314689,\n",
       "        33.38521162, 33.52727635, 33.66934108, 33.81140581, 33.95347054,\n",
       "        34.09553527, 34.2376    , 34.37966473, 34.52172946, 34.66379419,\n",
       "        34.80585892, 34.94792365, 35.08998838, 35.23205311, 35.37411784,\n",
       "        35.51618257, 35.6582473 , 35.80031203, 35.94237676, 36.08444149,\n",
       "        36.22650622, 36.36857095, 36.51063568, 36.65270041, 36.79476515,\n",
       "        36.93682988, 37.07889461, 37.22095934, 37.36302407, 37.5050888 ,\n",
       "        37.64715353, 37.78921826, 37.93128299, 38.07334772, 38.21541245,\n",
       "        38.35747718, 38.49954191, 38.64160664, 38.78367137, 38.9257361 ,\n",
       "        39.06780083, 39.20986556, 39.35193029, 39.49399502, 39.63605975,\n",
       "        39.77812448, 39.92018921, 40.06225394, 40.20431867, 40.3463834 ,\n",
       "        40.48844813, 40.63051286, 40.77257759, 40.91464232, 41.05670705,\n",
       "        41.19877178, 41.34083651, 41.48290124, 41.62496598, 41.76703071,\n",
       "        41.90909544, 42.05116017, 42.1932249 , 42.33528963, 42.47735436,\n",
       "        42.61941909, 42.76148382, 42.90354855, 43.04561328, 43.18767801,\n",
       "        43.32974274, 43.47180747, 43.6138722 , 43.75593693, 43.89800166,\n",
       "        44.04006639, 44.18213112, 44.32419585, 44.46626058, 44.60832531,\n",
       "        44.75039004, 44.89245477, 45.0345195 , 45.17658423, 45.31864896,\n",
       "        45.46071369, 45.60277842, 45.74484315, 45.88690788, 46.02897261,\n",
       "        46.17103734, 46.31310207, 46.4551668 , 46.59723154, 46.73929627,\n",
       "        46.881361  , 47.02342573, 47.16549046, 47.30755519, 47.44961992,\n",
       "        47.59168465, 47.73374938, 47.87581411, 48.01787884, 48.15994357,\n",
       "        48.3020083 , 48.44407303, 48.58613776, 48.72820249, 48.87026722,\n",
       "        49.01233195, 49.15439668, 49.29646141, 49.43852614, 49.58059087,\n",
       "        49.7226556 , 49.86472033, 50.00678506, 50.14884979, 50.29091452,\n",
       "        50.43297925, 50.57504398, 50.71710871, 50.85917344, 51.00123817,\n",
       "        51.1433029 , 51.28536763, 51.42743237, 51.5694971 , 51.71156183,\n",
       "        51.85362656, 51.99569129, 52.13775602, 52.27982075, 52.42188548,\n",
       "        52.56395021, 52.70601494, 52.84807967, 52.9901444 , 53.13220913,\n",
       "        53.27427386, 53.41633859, 53.55840332, 53.70046805, 53.84253278,\n",
       "        53.98459751, 54.12666224, 54.26872697, 54.4107917 , 54.55285643,\n",
       "        54.69492116, 54.83698589, 54.97905062, 55.12111535, 55.26318008,\n",
       "        55.40524481, 55.54730954, 55.68937427, 55.831439  , 55.97350373,\n",
       "        56.11556846, 56.2576332 , 56.39969793, 56.54176266, 56.68382739,\n",
       "        56.82589212, 56.96795685, 57.11002158, 57.25208631, 57.39415104,\n",
       "        57.53621577, 57.6782805 , 57.82034523, 57.96240996, 58.10447469,\n",
       "        58.24653942, 58.38860415, 58.53066888, 58.67273361, 58.81479834,\n",
       "        58.95686307, 59.0989278 , 59.24099253, 59.38305726, 59.52512199,\n",
       "        59.66718672, 59.80925145, 59.95131618, 60.09338091, 60.23544564,\n",
       "        60.37751037, 60.5195751 , 60.66163983, 60.80370456, 60.94576929,\n",
       "        61.08783402, 61.22989876, 61.37196349, 61.51402822, 61.65609295,\n",
       "        61.79815768, 61.94022241, 62.08228714, 62.22435187, 62.3664166 ,\n",
       "        62.50848133, 62.65054606, 62.79261079, 62.93467552, 63.07674025,\n",
       "        63.21880498, 63.36086971, 63.50293444, 63.64499917, 63.7870639 ,\n",
       "        63.92912863, 64.07119336, 64.21325809, 64.35532282, 64.49738755,\n",
       "        64.63945228, 64.78151701, 64.92358174, 65.06564647, 65.2077112 ,\n",
       "        65.34977593, 65.49184066, 65.63390539, 65.77597012, 65.91803485,\n",
       "        66.06009959, 66.20216432, 66.34422905, 66.48629378, 66.62835851,\n",
       "        66.77042324, 66.91248797, 67.0545527 , 67.19661743, 67.33868216,\n",
       "        67.48074689, 67.62281162, 67.76487635, 67.90694108, 68.04900581,\n",
       "        68.19107054, 68.33313527, 68.4752    , 68.61726473, 68.75932946,\n",
       "        68.90139419, 69.04345892, 69.18552365, 69.32758838, 69.46965311,\n",
       "        69.61171784, 69.75378257, 69.8958473 , 70.03791203, 70.17997676,\n",
       "        70.32204149, 70.46410622, 70.60617095, 70.74823568, 70.89030041,\n",
       "        71.03236515]),\n",
       " <a list of 500 Patch objects>)"
      ]
     },
     "execution_count": 189,
     "metadata": {},
     "output_type": "execute_result"
    },
    {
     "data": {
      "image/png": "[encoded data removed]",
      "text/plain": [
       "<Figure size 432x288 with 1 Axes>"
      ]
     },
     "metadata": {
      "needs_background": "light"
     },
     "output_type": "display_data"
    }
   ],
   "source": [
    "plt.hist(red_df['mean_duration'],normed=True,color='r',alpha=.5,bins=50)\n",
    "plt.hist(full_df['mean_duration'],normed=True,color='b',alpha=.5,bins=500)\n"
   ]
  },
  {
   "cell_type": "code",
   "execution_count": 190,
   "metadata": {},
   "outputs": [],
   "source": [
    "full_sum_df = full_df.groupby('time',as_index=False).agg({'mean_duration':'mean', 'Upload':'sum','Download':'sum','user':pd.Series.nunique})\n",
    "red_sum_df = red_df.groupby('time',as_index=False).agg({'mean_duration':'mean', 'Upload':'sum','Download':'sum','user':pd.Series.nunique})\n",
    "              "
   ]
  },
  {
   "cell_type": "code",
   "execution_count": 191,
   "metadata": {},
   "outputs": [
    {
     "data": {
      "text/html": [
       "<div>\n",
       "<style scoped>\n",
       "    .dataframe tbody tr th:only-of-type {\n",
       "        vertical-align: middle;\n",
       "    }\n",
       "\n",
       "    .dataframe tbody tr th {\n",
       "        vertical-align: top;\n",
       "    }\n",
       "\n",
       "    .dataframe thead th {\n",
       "        text-align: right;\n",
       "    }\n",
       "</style>\n",
       "<table border=\"1\" class=\"dataframe\">\n",
       "  <thead>\n",
       "    <tr style=\"text-align: right;\">\n",
       "      <th></th>\n",
       "      <th>time</th>\n",
       "      <th>mean_duration</th>\n",
       "      <th>Upload</th>\n",
       "      <th>Download</th>\n",
       "      <th>user</th>\n",
       "    </tr>\n",
       "  </thead>\n",
       "  <tbody>\n",
       "    <tr>\n",
       "      <th>0</th>\n",
       "      <td>0</td>\n",
       "      <td>10.879148</td>\n",
       "      <td>2.858622e+11</td>\n",
       "      <td>353428238281</td>\n",
       "      <td>1495</td>\n",
       "    </tr>\n",
       "    <tr>\n",
       "      <th>1</th>\n",
       "      <td>86400</td>\n",
       "      <td>11.576008</td>\n",
       "      <td>2.204473e+11</td>\n",
       "      <td>240559791244</td>\n",
       "      <td>1355</td>\n",
       "    </tr>\n",
       "    <tr>\n",
       "      <th>2</th>\n",
       "      <td>172800</td>\n",
       "      <td>11.465731</td>\n",
       "      <td>1.503102e+11</td>\n",
       "      <td>202072086722</td>\n",
       "      <td>1144</td>\n",
       "    </tr>\n",
       "    <tr>\n",
       "      <th>3</th>\n",
       "      <td>259200</td>\n",
       "      <td>10.207941</td>\n",
       "      <td>8.960045e+10</td>\n",
       "      <td>122156346090</td>\n",
       "      <td>817</td>\n",
       "    </tr>\n",
       "    <tr>\n",
       "      <th>4</th>\n",
       "      <td>345600</td>\n",
       "      <td>10.008203</td>\n",
       "      <td>1.037212e+11</td>\n",
       "      <td>147535841575</td>\n",
       "      <td>820</td>\n",
       "    </tr>\n",
       "  </tbody>\n",
       "</table>\n",
       "</div>"
      ],
      "text/plain": [
       "     time  mean_duration        Upload      Download  user\n",
       "0       0      10.879148  2.858622e+11  353428238281  1495\n",
       "1   86400      11.576008  2.204473e+11  240559791244  1355\n",
       "2  172800      11.465731  1.503102e+11  202072086722  1144\n",
       "3  259200      10.207941  8.960045e+10  122156346090   817\n",
       "4  345600      10.008203  1.037212e+11  147535841575   820"
      ]
     },
     "execution_count": 191,
     "metadata": {},
     "output_type": "execute_result"
    }
   ],
   "source": [
    "full_sum_df.head()"
   ]
  },
  {
   "cell_type": "code",
   "execution_count": 192,
   "metadata": {},
   "outputs": [
    {
     "data": {
      "text/plain": [
       "[<matplotlib.lines.Line2D at 0x11d235978>]"
      ]
     },
     "execution_count": 192,
     "metadata": {},
     "output_type": "execute_result"
    },
    {
     "data": {
      "image/png": "[encoded data removed]",
      "text/plain": [
       "<Figure size 432x288 with 1 Axes>"
      ]
     },
     "metadata": {
      "needs_background": "light"
     },
     "output_type": "display_data"
    }
   ],
   "source": [
    "\n",
    "plt.plot(full_sum_df['time'],full_sum_df['Download'])"
   ]
  },
  {
   "cell_type": "code",
   "execution_count": 193,
   "metadata": {},
   "outputs": [
    {
     "data": {
      "text/plain": [
       "[<matplotlib.lines.Line2D at 0x11d2245c0>]"
      ]
     },
     "execution_count": 193,
     "metadata": {},
     "output_type": "execute_result"
    },
    {
     "data": {
      "image/png": "[encoded data removed]",
      "text/plain": [
       "<Figure size 432x288 with 1 Axes>"
      ]
     },
     "metadata": {
      "needs_background": "light"
     },
     "output_type": "display_data"
    }
   ],
   "source": [
    "plt.plot(full_sum_df['time'],full_sum_df['Download'] , color='r')\n",
    "plt.plot(full_sum_df['time'],full_sum_df['Upload'], color='b')\n",
    "\n",
    "plt.plot(full_sum_df['time'],full_sum_df['user']*100000000, color='g')"
   ]
  },
  {
   "cell_type": "code",
   "execution_count": 194,
   "metadata": {},
   "outputs": [
    {
     "data": {
      "text/plain": [
       "[<matplotlib.lines.Line2D at 0x11d0f8c50>]"
      ]
     },
     "execution_count": 194,
     "metadata": {},
     "output_type": "execute_result"
    },
    {
     "data": {
      "image/png": "[encoded data removed]",
      "text/plain": [
       "<Figure size 432x288 with 1 Axes>"
      ]
     },
     "metadata": {
      "needs_background": "light"
     },
     "output_type": "display_data"
    }
   ],
   "source": [
    "\n",
    "plt.plot(full_sum_df['time'],full_sum_df['user'])"
   ]
  },
  {
   "cell_type": "code",
   "execution_count": 195,
   "metadata": {},
   "outputs": [
    {
     "data": {
      "text/plain": [
       "[<matplotlib.lines.Line2D at 0x11cff1080>]"
      ]
     },
     "execution_count": 195,
     "metadata": {},
     "output_type": "execute_result"
    },
    {
     "data": {
      "image/png": "[encoded data removed]",
      "text/plain": [
       "<Figure size 432x288 with 1 Axes>"
      ]
     },
     "metadata": {
      "needs_background": "light"
     },
     "output_type": "display_data"
    }
   ],
   "source": [
    "plt.plot(full_sum_df['time'],full_sum_df['Upload']/full_sum_df['Download'])"
   ]
  },
  {
   "cell_type": "code",
   "execution_count": null,
   "metadata": {},
   "outputs": [],
   "source": []
  },
  {
   "cell_type": "code",
   "execution_count": null,
   "metadata": {},
   "outputs": [],
   "source": []
  },
  {
   "cell_type": "code",
   "execution_count": 196,
   "metadata": {},
   "outputs": [
    {
     "data": {
      "text/plain": [
       "([<matplotlib.axis.XTick at 0x11cdce7f0>,\n",
       "  <matplotlib.axis.XTick at 0x11cdce240>,\n",
       "  <matplotlib.axis.XTick at 0x11cdb76d8>,\n",
       "  <matplotlib.axis.XTick at 0x11d17c2b0>,\n",
       "  <matplotlib.axis.XTick at 0x11d17c780>,\n",
       "  <matplotlib.axis.XTick at 0x11d17cb70>,\n",
       "  <matplotlib.axis.XTick at 0x11d193160>,\n",
       "  <matplotlib.axis.XTick at 0x11d1936a0>,\n",
       "  <matplotlib.axis.XTick at 0x11d193c18>,\n",
       "  <matplotlib.axis.XTick at 0x11d1791d0>,\n",
       "  <matplotlib.axis.XTick at 0x11d179748>,\n",
       "  <matplotlib.axis.XTick at 0x11d179cc0>,\n",
       "  <matplotlib.axis.XTick at 0x11d18c278>,\n",
       "  <matplotlib.axis.XTick at 0x11d179278>,\n",
       "  <matplotlib.axis.XTick at 0x11d193668>,\n",
       "  <matplotlib.axis.XTick at 0x11d18c978>,\n",
       "  <matplotlib.axis.XTick at 0x11d18cdd8>,\n",
       "  <matplotlib.axis.XTick at 0x11d174438>,\n",
       "  <matplotlib.axis.XTick at 0x11d174860>,\n",
       "  <matplotlib.axis.XTick at 0x11d174630>,\n",
       "  <matplotlib.axis.XTick at 0x11d161438>,\n",
       "  <matplotlib.axis.XTick at 0x11d1619b0>],\n",
       " <a list of 22 Text xticklabel objects>)"
      ]
     },
     "execution_count": 196,
     "metadata": {},
     "output_type": "execute_result"
    },
    {
     "data": {
      "image/png": "[encoded data removed]",
      "text/plain": [
       "<Figure size 432x288 with 1 Axes>"
      ]
     },
     "metadata": {
      "needs_background": "light"
     },
     "output_type": "display_data"
    }
   ],
   "source": [
    "plt.plot(red_sum_df['time'],red_sum_df['Download'] , color='r')\n",
    "plt.plot(red_sum_df['time'],red_sum_df['Upload'], color='b')\n",
    "\n",
    "plt.plot(full_sum_df['time'],red_sum_df['user']*20000000, color='g')\n",
    "plt.xticks(range(22))"
   ]
  },
  {
   "cell_type": "code",
   "execution_count": 197,
   "metadata": {},
   "outputs": [
    {
     "data": {
      "text/plain": [
       "[<matplotlib.lines.Line2D at 0x11d0cabe0>]"
      ]
     },
     "execution_count": 197,
     "metadata": {},
     "output_type": "execute_result"
    },
    {
     "data": {
      "image/png": "[encoded data removed]",
      "text/plain": [
       "<Figure size 432x288 with 1 Axes>"
      ]
     },
     "metadata": {
      "needs_background": "light"
     },
     "output_type": "display_data"
    }
   ],
   "source": [
    "plt.plot(full_sum_df['time'],red_sum_df['Upload']/red_sum_df['Download'])"
   ]
  },
  {
   "cell_type": "code",
   "execution_count": 198,
   "metadata": {},
   "outputs": [
    {
     "data": {
      "text/plain": [
       "3.0"
      ]
     },
     "execution_count": 198,
     "metadata": {},
     "output_type": "execute_result"
    }
   ],
   "source": [
    "np.log(1024**3) / np.log(1024)"
   ]
  },
  {
   "cell_type": "code",
   "execution_count": null,
   "metadata": {},
   "outputs": [],
   "source": []
  }
 ],
 "metadata": {
  "kernelspec": {
   "display_name": "Python 3",
   "language": "python",
   "name": "python3"
  },
  "language_info": {
   "codemirror_mode": {
    "name": "ipython",
    "version": 3
   },
   "file_extension": ".py",
   "mimetype": "text/x-python",
   "name": "python",
   "nbconvert_exporter": "python",
   "pygments_lexer": "ipython3",
   "version": "3.7.3"
  }
 },
 "nbformat": 4,
 "nbformat_minor": 2
}
